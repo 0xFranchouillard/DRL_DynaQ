{
 "cells": [
  {
   "cell_type": "markdown",
   "metadata": {
    "pycharm": {
     "name": "#%% md\n"
    }
   },
   "source": [
    "# Deep Reinforcement Learning\n",
    "Dans ce notebook, vous pourrez retrouvez une démonstration de nos modèles entrainés pour les algorithmes de Dynamic Programming, Monte Carlo et enfin de Temporal Difference Learning.\n",
    "\n",
    "Voici la liste des algorithmes que nous avons implémenté par catégorie :\n",
    "\n",
    "### Dynamic Programming\n",
    "- Policy Evaluation\n",
    "- Policy Iteration\n",
    "- Value Iteration\n",
    "\n",
    "### Méthodes de Monte Carlo\n",
    "- Monte Carlo ES (Exploring Starts)\n",
    "- On Policy First Visit Monte Carlo Control\n",
    "- Off Policy Monte Carlo Control\n",
    "\n",
    "### Temporal Difference Learning\n",
    "- SARSA\n",
    "- Q-Learning\n",
    "- Expected SARSA\n",
    "\n",
    "Pour chacune de ses catégories, nous avons implémentés plusieurs environnements de test.\n",
    "\n",
    "Pour le Dynamic Programming, nous avons implémenté les environnements suivants :\n",
    "- Line World\n",
    "- Grid World\n",
    "\n",
    "et nous avons un environnement secret (secret env 1) pour vérifier que le code était correctement implémenté.\n",
    "\n",
    "Pour les méthodes de Monte Carlo, nous avons implémenté l' environnement suivant :\n",
    "- Line World\n",
    "- Grid World\n",
    "- Tic Tac Toe\n",
    "\n",
    "et nous avons un environnement secret (secret env 2) pour vérifier que le code était correctement implémenté.\n",
    "\n",
    "Pour le Temporal Difference Learning, nous avons implémenté l' environnement suivant :\n",
    "- Line World\n",
    "- Grid World\n",
    "- Tic Tac Toe\n",
    "\n",
    "et nous avons un environnement secret (secret env 3) pour vérifier que le code était correctement implémenté."
   ]
  },
  {
   "cell_type": "code",
   "execution_count": 1,
   "metadata": {
    "pycharm": {
     "name": "#%%\n"
    }
   },
   "outputs": [],
   "source": [
    "# Mandatory imports\n",
    "import numpy as np\n",
    "import matplotlib.pyplot as plt\n",
    "\n",
    "# Utils\n",
    "from utils import load_model\n",
    "\n",
    "# Envs\n",
    "from envs import LineWorld, GridWorld, TicTacToe\n",
    "from Structure_project.drl_sample_project_python.drl_lib.do_not_touch.single_agent_env_wrapper import Env2, Env3"
   ]
  },
  {
   "cell_type": "markdown",
   "metadata": {
    "pycharm": {
     "name": "#%% md\n"
    }
   },
   "source": [
    "# Dynamic Programming"
   ]
  },
  {
   "cell_type": "markdown",
   "metadata": {
    "pycharm": {
     "name": "#%% md\n"
    }
   },
   "source": [
    "## Policy Evaluation"
   ]
  },
  {
   "cell_type": "markdown",
   "metadata": {
    "pycharm": {
     "name": "#%% md\n"
    }
   },
   "source": [
    "### Line World"
   ]
  },
  {
   "cell_type": "code",
   "execution_count": 2,
   "metadata": {
    "pycharm": {
     "name": "#%%\n"
    }
   },
   "outputs": [
    {
     "name": "stdout",
     "output_type": "stream",
     "text": [
      "Value function : {0: 0.0, 1: -0.666222552894292, 2: -0.33277797800492886, 3: 2.804679063161952e-07, 4: 0.3327784688941627, 5: 0.6662228452126342, 6: 0.0}\n"
     ]
    }
   ],
   "source": [
    "# TODO : Charger le modèle\n",
    "model_v = load_model('policy_evaluation_on_line_world_theta_1e-07_v')\n",
    "\n",
    "# TODO : On affiche juste la value function\n",
    "print(f\"Value function : {model_v}\")"
   ]
  },
  {
   "cell_type": "markdown",
   "metadata": {
    "pycharm": {
     "name": "#%% md\n"
    }
   },
   "source": [
    "### Grid World"
   ]
  },
  {
   "cell_type": "code",
   "execution_count": 3,
   "metadata": {
    "pycharm": {
     "name": "#%%\n"
    }
   },
   "outputs": [
    {
     "name": "stdout",
     "output_type": "stream",
     "text": [
      "Value function : {0: -0.1260692570837754, 1: -0.30737206884300816, 2: -0.6391817167166487, 3: -1.3411603931386242, 4: 0.0, 5: -0.1206437091161057, 6: -0.2743467579817585, 7: -0.4990328458761519, 8: -0.8181912942438315, 9: -1.089331754986688, 10: -0.08264202711636116, 11: -0.17143707174246334, 12: -0.2664098988854559, 13: -0.34651632473311056, 14: -0.33615117368043546, 15: -0.03881837104370556, 16: -0.06303620918234232, 17: -0.04972020722756931, 18: 0.033299520292477555, 19: 0.1764398592258208, 20: -0.009750797582870306, 21: 0.007578276463948126, 22: 0.09706656442787595, 23: 0.35312802234122065, 24: 0.0}\n"
     ]
    }
   ],
   "source": [
    "# TODO : Charger le modèle\n",
    "model_v = load_model('policy_evaluation_on_grid_world_theta_1e-07_v')\n",
    "\n",
    "# TODO : On affiche juste la value function\n",
    "print(f\"Value function : {model_v}\")"
   ]
  },
  {
   "cell_type": "markdown",
   "metadata": {
    "pycharm": {
     "name": "#%% md\n"
    }
   },
   "source": [
    "### Secret Env 1"
   ]
  },
  {
   "cell_type": "code",
   "execution_count": 4,
   "metadata": {
    "pycharm": {
     "name": "#%%\n"
    }
   },
   "outputs": [
    {
     "name": "stdout",
     "output_type": "stream",
     "text": [
      "Value function : {0: 0.0, 1: 0.0, 2: 0.0, 3: 0.0, 4: 0.0}\n"
     ]
    }
   ],
   "source": [
    "# TODO : Charger le modèle\n",
    "model_v = load_model('policy_evaluation_on_env1_theta_1e-07_v')\n",
    "\n",
    "# TODO : On affiche juste la value function\n",
    "print(f\"Value function : {model_v}\")"
   ]
  },
  {
   "cell_type": "markdown",
   "metadata": {
    "pycharm": {
     "name": "#%% md\n"
    }
   },
   "source": [
    "## Policy Iteration"
   ]
  },
  {
   "cell_type": "markdown",
   "metadata": {
    "pycharm": {
     "name": "#%% md\n"
    }
   },
   "source": [
    "### Line World"
   ]
  },
  {
   "cell_type": "code",
   "execution_count": 5,
   "metadata": {
    "pycharm": {
     "name": "#%%\n"
    }
   },
   "outputs": [
    {
     "name": "stdout",
     "output_type": "stream",
     "text": [
      "Value function : {0: 0.0, 1: 0.996005996001, 2: 0.997002999, 3: 0.998001, 4: 0.999, 5: 1.0, 6: 0.0}\n",
      "Policy : {0: {0: 1.0, 1: 0.0}, 1: {0: 0.0, 1: 1.0}, 2: {0: 0.0, 1: 1.0}, 3: {0: 0.0, 1: 1.0}, 4: {0: 0.0, 1: 1.0}, 5: {0: 0.0, 1: 1.0}, 6: {0: 1.0, 1: 0.0}}\n"
     ]
    }
   ],
   "source": [
    "# TODO : Charger le modèle\n",
    "model_v = load_model('policy_iteration_on_line_world_theta_1e-07_v')\n",
    "model_pi = load_model('policy_iteration_on_line_world_theta_1e-07_pi')\n",
    "\n",
    "# TODO : On affiche juste la value function et la policy\n",
    "print(f\"Value function : {model_v}\")\n",
    "print(f\"Policy : {model_pi}\")"
   ]
  },
  {
   "cell_type": "markdown",
   "metadata": {
    "pycharm": {
     "name": "#%% md\n"
    }
   },
   "source": [
    "### Grid World"
   ]
  },
  {
   "cell_type": "code",
   "execution_count": 6,
   "metadata": {
    "pycharm": {
     "name": "#%%\n"
    }
   },
   "outputs": [
    {
     "name": "stdout",
     "output_type": "stream",
     "text": [
      "Value function : {0: 0.993020965034979, 1: 0.994014980014994, 2: 0.995009990004999, 3: 0.996005996001, 4: 0.0, 5: 0.994014980014994, 6: 0.995009990004999, 7: 0.996005996001, 8: 0.997002999, 9: 0.998001, 10: 0.995009990004999, 11: 0.996005996001, 12: 0.997002999, 13: 0.998001, 14: 0.999, 15: 0.996005996001, 16: 0.997002999, 17: 0.998001, 18: 0.999, 19: 1.0, 20: 0.997002999, 21: 0.998001, 22: 0.999, 23: 1.0, 24: 0.0}\n",
      "Policy : {0: {0: 0.0, 1: 1.0, 2: 0.0, 3: 0.0}, 1: {0: 0.0, 1: 1.0, 2: 0.0, 3: 0.0}, 2: {0: 0.0, 1: 1.0, 2: 0.0, 3: 0.0}, 3: {0: 0.0, 1: 0.0, 2: 0.0, 3: 1.0}, 4: {0: 1.0, 1: 0.0, 2: 0.0, 3: 0.0}, 5: {0: 0.0, 1: 1.0, 2: 0.0, 3: 0.0}, 6: {0: 0.0, 1: 1.0, 2: 0.0, 3: 0.0}, 7: {0: 0.0, 1: 1.0, 2: 0.0, 3: 0.0}, 8: {0: 0.0, 1: 1.0, 2: 0.0, 3: 0.0}, 9: {0: 0.0, 1: 0.0, 2: 0.0, 3: 1.0}, 10: {0: 0.0, 1: 1.0, 2: 0.0, 3: 0.0}, 11: {0: 0.0, 1: 1.0, 2: 0.0, 3: 0.0}, 12: {0: 0.0, 1: 1.0, 2: 0.0, 3: 0.0}, 13: {0: 0.0, 1: 1.0, 2: 0.0, 3: 0.0}, 14: {0: 0.0, 1: 0.0, 2: 0.0, 3: 1.0}, 15: {0: 0.0, 1: 1.0, 2: 0.0, 3: 0.0}, 16: {0: 0.0, 1: 1.0, 2: 0.0, 3: 0.0}, 17: {0: 0.0, 1: 1.0, 2: 0.0, 3: 0.0}, 18: {0: 0.0, 1: 1.0, 2: 0.0, 3: 0.0}, 19: {0: 0.0, 1: 0.0, 2: 0.0, 3: 1.0}, 20: {0: 0.0, 1: 1.0, 2: 0.0, 3: 0.0}, 21: {0: 0.0, 1: 1.0, 2: 0.0, 3: 0.0}, 22: {0: 0.0, 1: 1.0, 2: 0.0, 3: 0.0}, 23: {0: 0.0, 1: 1.0, 2: 0.0, 3: 0.0}, 24: {0: 1.0, 1: 0.0, 2: 0.0, 3: 0.0}}\n"
     ]
    }
   ],
   "source": [
    "# TODO : Charger le modèle\n",
    "model_v = load_model('policy_iteration_on_grid_world_theta_1e-07_v')\n",
    "model_pi = load_model('policy_iteration_on_grid_world_theta_1e-07_pi')\n",
    "\n",
    "# TODO : On affiche juste la value function et la policy\n",
    "print(f\"Value function : {model_v}\")\n",
    "print(f\"Policy : {model_pi}\")"
   ]
  },
  {
   "cell_type": "markdown",
   "metadata": {
    "pycharm": {
     "name": "#%% md\n"
    }
   },
   "source": [
    "### Secret Env 1"
   ]
  },
  {
   "cell_type": "code",
   "execution_count": 7,
   "metadata": {
    "pycharm": {
     "name": "#%%\n"
    }
   },
   "outputs": [
    {
     "name": "stdout",
     "output_type": "stream",
     "text": [
      "Value function : {0: 0.49950001488626017, 1: 0.5, 2: 0.5, 3: 0.5, 4: 0.0}\n",
      "Policy : {0: {0: 0.0, 1: 1.0, 2: 0.0}, 1: {0: 0.0, 1: 0.0, 2: 1.0}, 2: {0: 1.0, 1: 0.0, 2: 0.0}, 3: {0: 0.0, 1: 1.0, 2: 0.0}, 4: {0: 1.0, 1: 0.0, 2: 0.0}}\n"
     ]
    }
   ],
   "source": [
    "# TODO : Charger le modèle\n",
    "model_v = load_model('policy_iteration_on_env1_theta_1e-07_v')\n",
    "model_pi = load_model('policy_iteration_on_env1_theta_1e-07_pi')\n",
    "\n",
    "# TODO : On affiche juste la value function et la policy\n",
    "print(f\"Value function : {model_v}\")\n",
    "print(f\"Policy : {model_pi}\")"
   ]
  },
  {
   "cell_type": "markdown",
   "metadata": {
    "pycharm": {
     "name": "#%% md\n"
    }
   },
   "source": [
    "## Value Iteration"
   ]
  },
  {
   "cell_type": "markdown",
   "metadata": {
    "pycharm": {
     "name": "#%% md\n"
    }
   },
   "source": [
    "### Line World"
   ]
  },
  {
   "cell_type": "code",
   "execution_count": 8,
   "metadata": {
    "pycharm": {
     "name": "#%%\n"
    }
   },
   "outputs": [
    {
     "name": "stdout",
     "output_type": "stream",
     "text": [
      "Value function : {0: 0.0, 1: 0.996005996001, 2: 0.997002999, 3: 0.998001, 4: 0.999, 5: 1.0, 6: 0.0}\n",
      "Policy : {0: {0: 1.0, 1: 0.0}, 1: {0: 0.0, 1: 1.0}, 2: {0: 0.0, 1: 1.0}, 3: {0: 0.0, 1: 1.0}, 4: {0: 0.0, 1: 1.0}, 5: {0: 0.0, 1: 1.0}, 6: {0: 1.0, 1: 0.0}}\n"
     ]
    }
   ],
   "source": [
    "# TODO : Charger le modèle\n",
    "model_v = load_model('value_iteration_on_line_world_theta_1e-07_v')\n",
    "model_pi = load_model('value_iteration_on_line_world_theta_1e-07_pi')\n",
    "\n",
    "# TODO : On affiche juste la value function et la policy\n",
    "print(f\"Value function : {model_v}\")\n",
    "print(f\"Policy : {model_pi}\")"
   ]
  },
  {
   "cell_type": "markdown",
   "metadata": {
    "pycharm": {
     "name": "#%% md\n"
    }
   },
   "source": [
    "### Grid World"
   ]
  },
  {
   "cell_type": "code",
   "execution_count": 9,
   "metadata": {
    "pycharm": {
     "name": "#%%\n"
    }
   },
   "outputs": [
    {
     "name": "stdout",
     "output_type": "stream",
     "text": [
      "Value function : {0: 0.993020965034979, 1: 0.994014980014994, 2: 0.995009990004999, 3: 0.996005996001, 4: 0.0, 5: 0.994014980014994, 6: 0.995009990004999, 7: 0.996005996001, 8: 0.997002999, 9: 0.998001, 10: 0.995009990004999, 11: 0.996005996001, 12: 0.997002999, 13: 0.998001, 14: 0.999, 15: 0.996005996001, 16: 0.997002999, 17: 0.998001, 18: 0.999, 19: 1.0, 20: 0.997002999, 21: 0.998001, 22: 0.999, 23: 1.0, 24: 0.0}\n",
      "Policy : {0: {0: 0.0, 1: 1.0, 2: 0.0, 3: 0.0}, 1: {0: 0.0, 1: 1.0, 2: 0.0, 3: 0.0}, 2: {0: 0.0, 1: 1.0, 2: 0.0, 3: 0.0}, 3: {0: 0.0, 1: 0.0, 2: 0.0, 3: 1.0}, 4: {0: 1.0, 1: 0.0, 2: 0.0, 3: 0.0}, 5: {0: 0.0, 1: 1.0, 2: 0.0, 3: 0.0}, 6: {0: 0.0, 1: 1.0, 2: 0.0, 3: 0.0}, 7: {0: 0.0, 1: 1.0, 2: 0.0, 3: 0.0}, 8: {0: 0.0, 1: 1.0, 2: 0.0, 3: 0.0}, 9: {0: 0.0, 1: 0.0, 2: 0.0, 3: 1.0}, 10: {0: 0.0, 1: 1.0, 2: 0.0, 3: 0.0}, 11: {0: 0.0, 1: 1.0, 2: 0.0, 3: 0.0}, 12: {0: 0.0, 1: 1.0, 2: 0.0, 3: 0.0}, 13: {0: 0.0, 1: 1.0, 2: 0.0, 3: 0.0}, 14: {0: 0.0, 1: 0.0, 2: 0.0, 3: 1.0}, 15: {0: 0.0, 1: 1.0, 2: 0.0, 3: 0.0}, 16: {0: 0.0, 1: 1.0, 2: 0.0, 3: 0.0}, 17: {0: 0.0, 1: 1.0, 2: 0.0, 3: 0.0}, 18: {0: 0.0, 1: 1.0, 2: 0.0, 3: 0.0}, 19: {0: 0.0, 1: 0.0, 2: 0.0, 3: 1.0}, 20: {0: 0.0, 1: 1.0, 2: 0.0, 3: 0.0}, 21: {0: 0.0, 1: 1.0, 2: 0.0, 3: 0.0}, 22: {0: 0.0, 1: 1.0, 2: 0.0, 3: 0.0}, 23: {0: 0.0, 1: 1.0, 2: 0.0, 3: 0.0}, 24: {0: 1.0, 1: 0.0, 2: 0.0, 3: 0.0}}\n"
     ]
    }
   ],
   "source": [
    "# TODO : Charger le modèle\n",
    "model_v = load_model('value_iteration_on_grid_world_theta_1e-07_v')\n",
    "model_pi = load_model('value_iteration_on_grid_world_theta_1e-07_pi')\n",
    "\n",
    "# TODO : On affiche juste la value function et la policy\n",
    "print(f\"Value function : {model_v}\")\n",
    "print(f\"Policy : {model_pi}\")"
   ]
  },
  {
   "cell_type": "markdown",
   "metadata": {
    "pycharm": {
     "name": "#%% md\n"
    }
   },
   "source": [
    "### Secret Env 1"
   ]
  },
  {
   "cell_type": "code",
   "execution_count": 10,
   "metadata": {
    "pycharm": {
     "name": "#%%\n"
    }
   },
   "outputs": [
    {
     "name": "stdout",
     "output_type": "stream",
     "text": [
      "Value function : {0: 0.49950001488626017, 1: 0.5, 2: 0.5, 3: 0.5, 4: 0.0}\n",
      "Policy : {0: {0: 0.0, 1: 1.0, 2: 0.0}, 1: {0: 0.0, 1: 0.0, 2: 1.0}, 2: {0: 1.0, 1: 0.0, 2: 0.0}, 3: {0: 0.0, 1: 1.0, 2: 0.0}, 4: {0: 1.0, 1: 0.0, 2: 0.0}}\n"
     ]
    }
   ],
   "source": [
    "# TODO : Charger le modèle\n",
    "model_v = load_model('value_iteration_on_env1_theta_1e-07_v')\n",
    "model_pi = load_model('value_iteration_on_env1_theta_1e-07_pi')\n",
    "\n",
    "# TODO : On affiche juste la value function et la policy\n",
    "print(f\"Value function : {model_v}\")\n",
    "print(f\"Policy : {model_pi}\")"
   ]
  },
  {
   "cell_type": "markdown",
   "metadata": {
    "pycharm": {
     "name": "#%% md\n"
    }
   },
   "source": [
    "# Méthodes de Monte Carlo"
   ]
  },
  {
   "cell_type": "markdown",
   "metadata": {
    "pycharm": {
     "name": "#%% md\n"
    }
   },
   "source": [
    "## Monte Carlo ES (Exploring Starts)"
   ]
  },
  {
   "cell_type": "markdown",
   "metadata": {
    "pycharm": {
     "name": "#%% md\n"
    }
   },
   "source": [
    "### Line World"
   ]
  },
  {
   "cell_type": "code",
   "execution_count": 11,
   "metadata": {
    "pycharm": {
     "name": "#%%\n"
    }
   },
   "outputs": [
    {
     "name": "stdout",
     "output_type": "stream",
     "text": [
      "Notre modèle pré-entrainé a gagné 100.0% des parties\n"
     ]
    },
    {
     "data": {
      "text/plain": "<Figure size 432x288 with 1 Axes>",
      "image/png": "[encoded data removed]"
     },
     "metadata": {
      "needs_background": "light"
     },
     "output_type": "display_data"
    }
   ],
   "source": [
    "env = LineWorld(7)\n",
    "\n",
    "# TODO : Charger le meilleur modèle\n",
    "model_pi = load_model('monte_carlo_es_on_line_world_iter_100_score_1.0_pi')\n",
    "\n",
    "# TODO : Lancer 1.000 parties avec notre modèle\n",
    "games_played = []\n",
    "win_rates = []\n",
    "win_rate = 0.0\n",
    "\n",
    "for game in range(1, 1_001):\n",
    "    env.reset()\n",
    "    while not env.is_game_over():\n",
    "        s = env.state_id()\n",
    "        aa = env.available_actions_ids()\n",
    "        if s not in model_pi:\n",
    "            a = np.random.choice(aa, p=[1/len(aa) for _ in aa])\n",
    "        else:\n",
    "            p = [model_pi[s][a_p] for a_p in aa]\n",
    "            a = np.random.choice(aa, p=p)\n",
    "        env.act_with_action_id(a)\n",
    "    games_played.append(game)\n",
    "    win_rate += env.score()\n",
    "    win_rates.append(win_rate)\n",
    "\n",
    "scores = (np.array(win_rates) / np.array(games_played))\n",
    "print(f\"Notre modèle pré-entrainé a gagné {scores[-1]*100}% des parties\")\n",
    "\n",
    "# TODO : Réaliser un graphique nombre de parties / taux de victoires\n",
    "plt.plot(games_played, scores);"
   ]
  },
  {
   "cell_type": "code",
   "execution_count": 12,
   "metadata": {
    "pycharm": {
     "name": "#%%\n"
    }
   },
   "outputs": [
    {
     "name": "stdout",
     "output_type": "stream",
     "text": [
      "Game Over: False\n",
      "score : 0.0\n",
      "L____XW\n",
      "Game Over: True\n",
      "score : 1.0\n",
      "L_____X\n",
      "win rate : 1.0\n",
      "game played : 1\n"
     ]
    }
   ],
   "source": [
    "# TODO : Lancer une seule partie avec notre modèle en visualisant le déroulement (env.view())\n",
    "env.reset_random()\n",
    "while not env.is_game_over():\n",
    "    s = env.state_id()\n",
    "    aa = env.available_actions_ids()\n",
    "    if s not in model_pi:\n",
    "        a = np.random.choice(aa, p=[1/len(aa) for _ in aa])\n",
    "    else:\n",
    "        a = np.random.choice(aa, p=[model_pi[s][a_p] for a_p in aa])\n",
    "    env.act_with_action_id(a)\n",
    "    env.view()"
   ]
  },
  {
   "cell_type": "markdown",
   "metadata": {
    "pycharm": {
     "name": "#%% md\n"
    }
   },
   "source": [
    "### Grid World"
   ]
  },
  {
   "cell_type": "code",
   "execution_count": 13,
   "metadata": {
    "pycharm": {
     "name": "#%%\n"
    }
   },
   "outputs": [
    {
     "name": "stdout",
     "output_type": "stream",
     "text": [
      "Notre modèle pré-entrainé a gagné 100.0% des parties\n"
     ]
    },
    {
     "data": {
      "text/plain": "<Figure size 432x288 with 1 Axes>",
      "image/png": "[encoded data removed]"
     },
     "metadata": {
      "needs_background": "light"
     },
     "output_type": "display_data"
    }
   ],
   "source": [
    "env = GridWorld()\n",
    "\n",
    "# TODO : Charger le meilleur modèle\n",
    "model_pi = load_model('monte_carlo_es_on_grid_world_iter_100_score_1.0_pi')\n",
    "\n",
    "# TODO : Lancer 1.000 parties avec notre modèle\n",
    "games_played = []\n",
    "win_rates = []\n",
    "win_rate = 0.0\n",
    "\n",
    "for game in range(1, 1_001):\n",
    "    env.reset()\n",
    "    while not env.is_game_over():\n",
    "        s = env.state_id()\n",
    "        aa = env.available_actions_ids()\n",
    "        if s not in model_pi:\n",
    "            a = np.random.choice(aa, p=[1/len(aa) for _ in aa])\n",
    "        else:\n",
    "            p = [model_pi[s][a_p] for a_p in aa]\n",
    "            a = np.random.choice(aa, p=p)\n",
    "        env.act_with_action_id(a)\n",
    "    games_played.append(game)\n",
    "    win_rate += env.score()\n",
    "    win_rates.append(win_rate)\n",
    "\n",
    "scores = (np.array(win_rates) / np.array(games_played))\n",
    "print(f\"Notre modèle pré-entrainé a gagné {scores[-1]*100}% des parties\")\n",
    "\n",
    "# TODO : Réaliser un graphique nombre de parties / taux de victoires\n",
    "plt.plot(games_played, scores);"
   ]
  },
  {
   "cell_type": "code",
   "execution_count": 14,
   "metadata": {
    "pycharm": {
     "name": "#%%\n"
    }
   },
   "outputs": [
    {
     "name": "stdout",
     "output_type": "stream",
     "text": [
      "Game Over: False\n",
      "score : 0.0\n",
      "S___L\n",
      "_____\n",
      "____X\n",
      "_____\n",
      "____W\n",
      "Game Over: False\n",
      "score : 0.0\n",
      "S___L\n",
      "_____\n",
      "_____\n",
      "____X\n",
      "____W\n",
      "Game Over: True\n",
      "score : 1.0\n",
      "S___L\n",
      "_____\n",
      "_____\n",
      "_____\n",
      "____X\n",
      "win rate : 1.0\n",
      "game played : 1\n"
     ]
    }
   ],
   "source": [
    "# TODO : Lancer une seule partie avec notre modèle en visualisant le déroulement (env.view())\n",
    "env.reset_random()\n",
    "while not env.is_game_over():\n",
    "    s = env.state_id()\n",
    "    aa = env.available_actions_ids()\n",
    "    if s not in model_pi:\n",
    "        a = np.random.choice(aa, p=[1/len(aa) for _ in aa])\n",
    "    else:\n",
    "        a = np.random.choice(aa, p=[model_pi[s][a_p] for a_p in aa])\n",
    "    env.act_with_action_id(a)\n",
    "    env.view()"
   ]
  },
  {
   "cell_type": "markdown",
   "metadata": {
    "pycharm": {
     "name": "#%% md\n"
    }
   },
   "source": [
    "### Tic Tac Toe"
   ]
  },
  {
   "cell_type": "code",
   "execution_count": 15,
   "metadata": {
    "pycharm": {
     "name": "#%%\n"
    }
   },
   "outputs": [
    {
     "name": "stdout",
     "output_type": "stream",
     "text": [
      "Notre modèle pré-entrainé a gagné 98.8% des parties\n"
     ]
    },
    {
     "data": {
      "text/plain": "<Figure size 432x288 with 1 Axes>",
      "image/png": "[encoded data removed]"
     },
     "metadata": {
      "needs_background": "light"
     },
     "output_type": "display_data"
    }
   ],
   "source": [
    "env = TicTacToe()\n",
    "\n",
    "# TODO : Charger le meilleur modèle\n",
    "model_pi = load_model('monte_carlo_es_on_tic_tac_toe_solo_iter_83350_score_0.985_pi')\n",
    "\n",
    "# TODO : Lancer 1.000 parties avec notre modèle\n",
    "games_played = []\n",
    "win_rates = []\n",
    "win_rate = 0.0\n",
    "\n",
    "for game in range(1, 1_001):\n",
    "    env.reset()\n",
    "    while not env.is_game_over():\n",
    "        s = env.state_id()\n",
    "        aa = env.available_actions_ids()\n",
    "        if s not in model_pi:\n",
    "            a = np.random.choice(aa, p=[1/len(aa) for _ in aa])\n",
    "        else:\n",
    "            a = np.random.choice(aa, p=[model_pi[s][a_p] for a_p in aa])\n",
    "        env.act_with_action_id(a)\n",
    "    games_played.append(game)\n",
    "    win_rate += env.score()\n",
    "    win_rates.append(win_rate)\n",
    "\n",
    "scores = (np.array(win_rates) / np.array(games_played))\n",
    "print(f\"Notre modèle pré-entrainé a gagné {scores[-1]*100}% des parties\")\n",
    "\n",
    "# TODO : Réaliser un graphique nombre de parties / taux de victoires\n",
    "plt.plot(games_played, scores);"
   ]
  },
  {
   "cell_type": "code",
   "execution_count": 16,
   "metadata": {
    "pycharm": {
     "name": "#%%\n"
    }
   },
   "outputs": [
    {
     "name": "stdout",
     "output_type": "stream",
     "text": [
      "Game Over: False\n",
      "score : 0.0\n",
      "__O\n",
      "_X_\n",
      "___\n",
      "Game Over: False\n",
      "score : 0.0\n",
      "_XO\n",
      "_XO\n",
      "___\n",
      "Game Over: True\n",
      "score : 1.0\n",
      "_XO\n",
      "_XO\n",
      "_X_\n",
      "win rate : 1.0\n",
      "game played : 1\n"
     ]
    }
   ],
   "source": [
    "# TODO : Lancer une seule partie avec notre modèle en visualisant le déroulement (env.view())\n",
    "env.reset()\n",
    "while not env.is_game_over():\n",
    "    s = env.state_id()\n",
    "    aa = env.available_actions_ids()\n",
    "    if s not in model_pi:\n",
    "        a = np.random.choice(aa, p=[1/len(aa) for _ in aa])\n",
    "    else:\n",
    "        a = np.random.choice(aa, p=[model_pi[s][a_p] for a_p in aa])\n",
    "    env.act_with_action_id(a)\n",
    "    env.view()"
   ]
  },
  {
   "cell_type": "markdown",
   "metadata": {
    "pycharm": {
     "name": "#%% md\n"
    }
   },
   "source": [
    "### Secret Env 2"
   ]
  },
  {
   "cell_type": "code",
   "execution_count": 17,
   "metadata": {
    "pycharm": {
     "name": "#%%\n"
    }
   },
   "outputs": [
    {
     "name": "stdout",
     "output_type": "stream",
     "text": [
      "Notre modèle pré-entrainé a gagné 65.7% des parties\n"
     ]
    },
    {
     "data": {
      "text/plain": "<Figure size 432x288 with 1 Axes>",
      "image/png": "[encoded data removed]"
     },
     "metadata": {
      "needs_background": "light"
     },
     "output_type": "display_data"
    }
   ],
   "source": [
    "env = Env2()\n",
    "\n",
    "# TODO : Charger le meilleur modèle\n",
    "model_pi = load_model('monte_carlo_es_on_secret_env2_iter_66700_score_0.674_pi')\n",
    "\n",
    "# TODO : Lancer 1.000 parties avec notre modèle\n",
    "games_played = []\n",
    "win_rates = []\n",
    "win_rate = 0.0\n",
    "\n",
    "for game in range(1, 1_001):\n",
    "    env.reset()\n",
    "    while not env.is_game_over():\n",
    "        s = env.state_id()\n",
    "        aa = env.available_actions_ids()\n",
    "        if s not in model_pi:\n",
    "            a = np.random.choice(aa, p=[1/len(aa) for _ in aa])\n",
    "        else:\n",
    "            a = np.random.choice(aa, p=[model_pi[s][a_p] for a_p in aa])\n",
    "        env.act_with_action_id(a)\n",
    "    games_played.append(game)\n",
    "    win_rate += env.score()\n",
    "    win_rates.append(win_rate)\n",
    "\n",
    "scores = (np.array(win_rates) / np.array(games_played))\n",
    "print(f\"Notre modèle pré-entrainé a gagné {scores[-1]*100}% des parties\")\n",
    "\n",
    "# TODO : Réaliser un graphique nombre de parties / taux de victoires\n",
    "plt.plot(games_played, scores);"
   ]
  },
  {
   "cell_type": "code",
   "execution_count": 18,
   "metadata": {
    "pycharm": {
     "name": "#%%\n"
    }
   },
   "outputs": [
    {
     "name": "stdout",
     "output_type": "stream",
     "text": [
      "It's secret !\n",
      "It's secret !\n",
      "It's secret !\n"
     ]
    }
   ],
   "source": [
    "# TODO : Lancer une seule partie avec notre modèle en visualisant le déroulement (env.view())\n",
    "env.reset()\n",
    "while not env.is_game_over():\n",
    "    s = env.state_id()\n",
    "    aa = env.available_actions_ids()\n",
    "    if s not in model_pi:\n",
    "        a = np.random.choice(aa, p=[1/len(aa) for _ in aa])\n",
    "    else:\n",
    "        a = np.random.choice(aa, p=[model_pi[s][a_p] for a_p in aa])\n",
    "    env.act_with_action_id(a)\n",
    "    env.view()"
   ]
  },
  {
   "cell_type": "markdown",
   "metadata": {
    "pycharm": {
     "name": "#%% md\n"
    }
   },
   "source": [
    "## On Policy First Visit Monte Carlo Control"
   ]
  },
  {
   "cell_type": "markdown",
   "metadata": {
    "pycharm": {
     "name": "#%% md\n"
    }
   },
   "source": [
    "### Line World"
   ]
  },
  {
   "cell_type": "code",
   "execution_count": 19,
   "metadata": {
    "pycharm": {
     "name": "#%%\n"
    }
   },
   "outputs": [
    {
     "name": "stdout",
     "output_type": "stream",
     "text": [
      "Notre modèle pré-entrainé a gagné 100.0% des parties\n"
     ]
    },
    {
     "data": {
      "text/plain": "<Figure size 432x288 with 1 Axes>",
      "image/png": "[encoded data removed]"
     },
     "metadata": {
      "needs_background": "light"
     },
     "output_type": "display_data"
    }
   ],
   "source": [
    "env = LineWorld(7)\n",
    "\n",
    "# TODO : Charger le meilleur modèle\n",
    "model_pi = load_model('op_first_visit_line_world_it_100_eps_0.001_s_1.0_pi')\n",
    "\n",
    "# TODO : Lancer 1.000 parties avec notre modèle\n",
    "games_played = []\n",
    "win_rates = []\n",
    "win_rate = 0.0\n",
    "\n",
    "for game in range(1, 1_001):\n",
    "    env.reset()\n",
    "    while not env.is_game_over():\n",
    "        s = env.state_id()\n",
    "        aa = env.available_actions_ids()\n",
    "        if s not in model_pi:\n",
    "            a = np.random.choice(aa, p=[1/len(aa) for _ in aa])\n",
    "        else:\n",
    "            a = np.random.choice(aa, p=[model_pi[s][a_p] for a_p in aa])\n",
    "        env.act_with_action_id(a)\n",
    "    games_played.append(game)\n",
    "    win_rate += env.score()\n",
    "    win_rates.append(win_rate)\n",
    "\n",
    "scores = (np.array(win_rates) / np.array(games_played))\n",
    "print(f\"Notre modèle pré-entrainé a gagné {scores[-1]*100}% des parties\")\n",
    "\n",
    "# TODO : Réaliser un graphique nombre de parties / taux de victoires\n",
    "plt.plot(games_played, scores);"
   ]
  },
  {
   "cell_type": "code",
   "execution_count": 20,
   "metadata": {
    "pycharm": {
     "name": "#%%\n"
    }
   },
   "outputs": [
    {
     "name": "stdout",
     "output_type": "stream",
     "text": [
      "Game Over: False\n",
      "score : 0.0\n",
      "L___X_W\n",
      "Game Over: False\n",
      "score : 0.0\n",
      "L____XW\n",
      "Game Over: True\n",
      "score : 1.0\n",
      "L_____X\n",
      "win rate : 1.0\n",
      "game played : 1\n"
     ]
    }
   ],
   "source": [
    "# TODO : Lancer une seule partie avec notre modèle en visualisant le déroulement (env.view())\n",
    "env.reset()\n",
    "while not env.is_game_over():\n",
    "    s = env.state_id()\n",
    "    aa = env.available_actions_ids()\n",
    "    if s not in model_pi:\n",
    "        a = np.random.choice(aa, p=[1/len(aa) for _ in aa])\n",
    "    else:\n",
    "        a = np.random.choice(aa, p=[model_pi[s][a_p] for a_p in aa])\n",
    "    env.act_with_action_id(a)\n",
    "    env.view()"
   ]
  },
  {
   "cell_type": "markdown",
   "metadata": {
    "pycharm": {
     "name": "#%% md\n"
    }
   },
   "source": [
    "### Grid World"
   ]
  },
  {
   "cell_type": "code",
   "execution_count": 21,
   "metadata": {
    "pycharm": {
     "name": "#%%\n"
    }
   },
   "outputs": [
    {
     "name": "stdout",
     "output_type": "stream",
     "text": [
      "Notre modèle pré-entrainé a gagné 100.0% des parties\n"
     ]
    },
    {
     "data": {
      "text/plain": "<Figure size 432x288 with 1 Axes>",
      "image/png": "[encoded data removed]"
     },
     "metadata": {
      "needs_background": "light"
     },
     "output_type": "display_data"
    }
   ],
   "source": [
    "env = GridWorld()\n",
    "\n",
    "# TODO : Charger le meilleur modèle\n",
    "model_pi = load_model('op_first_visit_grid_world_it_20080_eps_0.167_s_1.0_pi')\n",
    "\n",
    "# TODO : Lancer 1.000 parties avec notre modèle\n",
    "games_played = []\n",
    "win_rates = []\n",
    "win_rate = 0.0\n",
    "\n",
    "for game in range(1, 1_001):\n",
    "    env.reset()\n",
    "    while not env.is_game_over():\n",
    "        s = env.state_id()\n",
    "        aa = env.available_actions_ids()\n",
    "        if s not in model_pi:\n",
    "            a = np.random.choice(aa, p=[1/len(aa) for _ in aa])\n",
    "        else:\n",
    "            a = np.random.choice(aa, p=[model_pi[s][a_p] for a_p in aa])\n",
    "        env.act_with_action_id(a)\n",
    "    games_played.append(game)\n",
    "    win_rate += env.score()\n",
    "    win_rates.append(win_rate)\n",
    "\n",
    "scores = (np.array(win_rates) / np.array(games_played))\n",
    "print(f\"Notre modèle pré-entrainé a gagné {scores[-1]*100}% des parties\")\n",
    "\n",
    "# TODO : Réaliser un graphique nombre de parties / taux de victoires\n",
    "plt.plot(games_played, scores);"
   ]
  },
  {
   "cell_type": "code",
   "execution_count": 22,
   "metadata": {
    "pycharm": {
     "name": "#%%\n"
    }
   },
   "outputs": [
    {
     "name": "stdout",
     "output_type": "stream",
     "text": [
      "Game Over: False\n",
      "score : 0.0\n",
      "SX__L\n",
      "_____\n",
      "_____\n",
      "_____\n",
      "____W\n",
      "Game Over: False\n",
      "score : 0.0\n",
      "S___L\n",
      "_X___\n",
      "_____\n",
      "_____\n",
      "____W\n",
      "Game Over: False\n",
      "score : 0.0\n",
      "SX__L\n",
      "_____\n",
      "_____\n",
      "_____\n",
      "____W\n",
      "Game Over: False\n",
      "score : 0.0\n",
      "S___L\n",
      "_X___\n",
      "_____\n",
      "_____\n",
      "____W\n",
      "Game Over: False\n",
      "score : 0.0\n",
      "S___L\n",
      "_____\n",
      "_X___\n",
      "_____\n",
      "____W\n",
      "Game Over: False\n",
      "score : 0.0\n",
      "S___L\n",
      "_____\n",
      "__X__\n",
      "_____\n",
      "____W\n",
      "Game Over: False\n",
      "score : 0.0\n",
      "S___L\n",
      "_____\n",
      "_____\n",
      "__X__\n",
      "____W\n",
      "Game Over: False\n",
      "score : 0.0\n",
      "S___L\n",
      "_____\n",
      "_____\n",
      "___X_\n",
      "____W\n",
      "Game Over: False\n",
      "score : 0.0\n",
      "S___L\n",
      "_____\n",
      "_____\n",
      "_____\n",
      "___XW\n",
      "Game Over: True\n",
      "score : 1.0\n",
      "S___L\n",
      "_____\n",
      "_____\n",
      "_____\n",
      "____X\n",
      "win rate : 1.0\n",
      "game played : 1\n"
     ]
    }
   ],
   "source": [
    "# TODO : Lancer une seule partie avec notre modèle en visualisant le déroulement (env.view())\n",
    "env.reset()\n",
    "while not env.is_game_over():\n",
    "    s = env.state_id()\n",
    "    aa = env.available_actions_ids()\n",
    "    if s not in model_pi:\n",
    "        a = np.random.choice(aa, p=[1/len(aa) for _ in aa])\n",
    "    else:\n",
    "        a = np.random.choice(aa, p=[model_pi[s][a_p] for a_p in aa])\n",
    "    env.act_with_action_id(a)\n",
    "    env.view()"
   ]
  },
  {
   "cell_type": "markdown",
   "metadata": {
    "pycharm": {
     "name": "#%% md\n"
    }
   },
   "source": [
    "### Tic Tac Toe"
   ]
  },
  {
   "cell_type": "code",
   "execution_count": 23,
   "metadata": {
    "pycharm": {
     "name": "#%%\n"
    }
   },
   "outputs": [
    {
     "name": "stdout",
     "output_type": "stream",
     "text": [
      "Notre modèle pré-entrainé a gagné 93.2% des parties\n"
     ]
    },
    {
     "data": {
      "text/plain": "<Figure size 432x288 with 1 Axes>",
      "image/png": "[encoded data removed]"
     },
     "metadata": {
      "needs_background": "light"
     },
     "output_type": "display_data"
    }
   ],
   "source": [
    "env = TicTacToe()\n",
    "\n",
    "# TODO : Charger le meilleur modèle\n",
    "model_pi = load_model('op_first_visit_mcc_ttt_it_75025_eps_0.001_s_0.953_pi')\n",
    "\n",
    "# TODO : Lancer 1.000 parties avec notre modèle\n",
    "games_played = []\n",
    "win_rates = []\n",
    "win_rate = 0.0\n",
    "\n",
    "for game in range(1, 1_001):\n",
    "    env.reset()\n",
    "    while not env.is_game_over():\n",
    "        s = env.state_id()\n",
    "        aa = env.available_actions_ids()\n",
    "        if s not in model_pi:\n",
    "            a = np.random.choice(aa, p=[1/len(aa) for _ in aa])\n",
    "        else:\n",
    "            a = np.random.choice(aa, p=[model_pi[s][a_p] for a_p in aa])\n",
    "        env.act_with_action_id(a)\n",
    "    games_played.append(game)\n",
    "    win_rate += env.score()\n",
    "    win_rates.append(win_rate)\n",
    "\n",
    "scores = (np.array(win_rates) / np.array(games_played))\n",
    "print(f\"Notre modèle pré-entrainé a gagné {scores[-1]*100}% des parties\")\n",
    "\n",
    "# TODO : Réaliser un graphique nombre de parties / taux de victoires\n",
    "plt.plot(games_played, scores);"
   ]
  },
  {
   "cell_type": "code",
   "execution_count": 24,
   "metadata": {
    "pycharm": {
     "name": "#%%\n"
    }
   },
   "outputs": [
    {
     "name": "stdout",
     "output_type": "stream",
     "text": [
      "Game Over: False\n",
      "score : 0.0\n",
      "___\n",
      "_X_\n",
      "__O\n",
      "Game Over: False\n",
      "score : 0.0\n",
      "___\n",
      "_XO\n",
      "X_O\n",
      "Game Over: True\n",
      "score : 1.0\n",
      "__X\n",
      "_XO\n",
      "X_O\n",
      "win rate : 1.0\n",
      "game played : 1\n"
     ]
    }
   ],
   "source": [
    "# TODO : Lancer une seule partie avec notre modèle en visualisant le déroulement (env.view())\n",
    "env.reset()\n",
    "while not env.is_game_over():\n",
    "    s = env.state_id()\n",
    "    aa = env.available_actions_ids()\n",
    "    if s not in model_pi:\n",
    "        a = np.random.choice(aa, p=[1/len(aa) for _ in aa])\n",
    "    else:\n",
    "        a = np.random.choice(aa, p=[model_pi[s][a_p] for a_p in aa])\n",
    "    env.act_with_action_id(a)\n",
    "    env.view()"
   ]
  },
  {
   "cell_type": "markdown",
   "metadata": {
    "pycharm": {
     "name": "#%% md\n"
    }
   },
   "source": [
    "### Secret Env 2"
   ]
  },
  {
   "cell_type": "code",
   "execution_count": 25,
   "metadata": {
    "pycharm": {
     "name": "#%%\n"
    }
   },
   "outputs": [
    {
     "name": "stdout",
     "output_type": "stream",
     "text": [
      "Notre modèle pré-entrainé a gagné 67.60000000000001% des parties\n"
     ]
    },
    {
     "data": {
      "text/plain": "<Figure size 432x288 with 1 Axes>",
      "image/png": "[encoded data removed]"
     },
     "metadata": {
      "needs_background": "light"
     },
     "output_type": "display_data"
    }
   ],
   "source": [
    "env = Env2()\n",
    "\n",
    "# TODO : Charger le meilleur modèle\n",
    "model_pi = load_model('on_policy_first_visit_mcc_env2_it_60040_eps_0.167_s_0.687_pi')\n",
    "\n",
    "# TODO : Lancer 1.000 parties avec notre modèle\n",
    "games_played = []\n",
    "win_rates = []\n",
    "win_rate = 0.0\n",
    "\n",
    "for game in range(1, 1_001):\n",
    "    env.reset()\n",
    "    while not env.is_game_over():\n",
    "        s = env.state_id()\n",
    "        aa = env.available_actions_ids()\n",
    "        if s not in model_pi:\n",
    "            a = np.random.choice(aa, p=[1/len(aa) for _ in aa])\n",
    "        else:\n",
    "            a = np.random.choice(aa, p=[model_pi[s][a_p] for a_p in aa])\n",
    "        env.act_with_action_id(a)\n",
    "    games_played.append(game)\n",
    "    win_rate += env.score()\n",
    "    win_rates.append(win_rate)\n",
    "\n",
    "scores = (np.array(win_rates) / np.array(games_played))\n",
    "print(f\"Notre modèle pré-entrainé a gagné {scores[-1]*100}% des parties\")\n",
    "\n",
    "# TODO : Réaliser un graphique nombre de parties / taux de victoires\n",
    "plt.plot(games_played, scores);"
   ]
  },
  {
   "cell_type": "code",
   "execution_count": 26,
   "metadata": {
    "pycharm": {
     "name": "#%%\n"
    }
   },
   "outputs": [
    {
     "name": "stdout",
     "output_type": "stream",
     "text": [
      "It's secret !\n",
      "It's secret !\n",
      "It's secret !\n"
     ]
    }
   ],
   "source": [
    "# TODO : Lancer une seule partie avec notre modèle en visualisant le déroulement (env.view())\n",
    "env.reset()\n",
    "while not env.is_game_over():\n",
    "    s = env.state_id()\n",
    "    aa = env.available_actions_ids()\n",
    "    if s not in model_pi:\n",
    "        a = np.random.choice(aa, p=[1/len(aa) for _ in aa])\n",
    "    else:\n",
    "        a = np.random.choice(aa, p=[model_pi[s][a_p] for a_p in aa])\n",
    "    env.act_with_action_id(a)\n",
    "    env.view()"
   ]
  },
  {
   "cell_type": "markdown",
   "metadata": {
    "pycharm": {
     "name": "#%% md\n"
    }
   },
   "source": [
    "## Off Policy Monte Carlo Control"
   ]
  },
  {
   "cell_type": "markdown",
   "metadata": {
    "pycharm": {
     "name": "#%% md\n"
    }
   },
   "source": [
    "### Line World"
   ]
  },
  {
   "cell_type": "code",
   "execution_count": 27,
   "metadata": {
    "pycharm": {
     "name": "#%%\n"
    }
   },
   "outputs": [
    {
     "name": "stdout",
     "output_type": "stream",
     "text": [
      "Notre modèle pré-entrainé a gagné 100.0% des parties\n"
     ]
    },
    {
     "data": {
      "text/plain": "<Figure size 432x288 with 1 Axes>",
      "image/png": "[encoded data removed]"
     },
     "metadata": {
      "needs_background": "light"
     },
     "output_type": "display_data"
    }
   ],
   "source": [
    "env = LineWorld(7)\n",
    "\n",
    "# TODO : Charger le meilleur modèle\n",
    "model_pi = load_model('off_policy_first_visit_mcc_line_world_iter_100_score_1.0_pi')\n",
    "\n",
    "# TODO : Lancer 1.000 parties avec notre modèle\n",
    "games_played = []\n",
    "win_rates = []\n",
    "win_rate = 0.0\n",
    "\n",
    "for game in range(1, 1_001):\n",
    "    env.reset()\n",
    "    while not env.is_game_over():\n",
    "        s = env.state_id()\n",
    "        aa = env.available_actions_ids()\n",
    "        if s not in model_pi:\n",
    "            a = np.random.choice(aa, p=[1/len(aa) for _ in aa])\n",
    "        else:\n",
    "            a = np.random.choice(aa, p=[model_pi[s][a_p] for a_p in aa])\n",
    "        env.act_with_action_id(a)\n",
    "    games_played.append(game)\n",
    "    win_rate += env.score()\n",
    "    win_rates.append(win_rate)\n",
    "\n",
    "scores = (np.array(win_rates) / np.array(games_played))\n",
    "print(f\"Notre modèle pré-entrainé a gagné {scores[-1]*100}% des parties\")\n",
    "\n",
    "# TODO : Réaliser un graphique nombre de parties / taux de victoires\n",
    "plt.plot(games_played, scores);"
   ]
  },
  {
   "cell_type": "code",
   "execution_count": 28,
   "metadata": {
    "pycharm": {
     "name": "#%%\n"
    }
   },
   "outputs": [
    {
     "name": "stdout",
     "output_type": "stream",
     "text": [
      "Game Over: False\n",
      "score : 0.0\n",
      "L____XW\n",
      "Game Over: True\n",
      "score : 1.0\n",
      "L_____X\n",
      "win rate : 1.0\n",
      "game played : 1\n"
     ]
    }
   ],
   "source": [
    "# TODO : Lancer une seule partie avec notre modèle en visualisant le déroulement (env.view())\n",
    "env.reset_random()\n",
    "while not env.is_game_over():\n",
    "    s = env.state_id()\n",
    "    aa = env.available_actions_ids()\n",
    "    if s not in model_pi:\n",
    "        a = np.random.choice(aa, p=[1/len(aa) for _ in aa])\n",
    "    else:\n",
    "        a = np.random.choice(aa, p=[model_pi[s][a_p] for a_p in aa])\n",
    "    env.act_with_action_id(a)\n",
    "    env.view()"
   ]
  },
  {
   "cell_type": "markdown",
   "metadata": {
    "pycharm": {
     "name": "#%% md\n"
    }
   },
   "source": [
    "### Grid World"
   ]
  },
  {
   "cell_type": "code",
   "execution_count": 29,
   "metadata": {
    "pycharm": {
     "name": "#%%\n"
    }
   },
   "outputs": [
    {
     "name": "stdout",
     "output_type": "stream",
     "text": [
      "Notre modèle pré-entrainé a gagné 100.0% des parties\n"
     ]
    },
    {
     "data": {
      "text/plain": "<Figure size 432x288 with 1 Axes>",
      "image/png": "[encoded data removed]"
     },
     "metadata": {
      "needs_background": "light"
     },
     "output_type": "display_data"
    }
   ],
   "source": [
    "env = GridWorld()\n",
    "\n",
    "# TODO : Charger le meilleur modèle\n",
    "model_pi = load_model('off_policy_mcc_on_grid_world_iter_100_score_1.0_pi')\n",
    "\n",
    "# TODO : Lancer 1.000 parties avec notre modèle\n",
    "games_played = []\n",
    "win_rates = []\n",
    "win_rate = 0.0\n",
    "\n",
    "for game in range(1, 1_001):\n",
    "    env.reset()\n",
    "    while not env.is_game_over():\n",
    "        s = env.state_id()\n",
    "        aa = env.available_actions_ids()\n",
    "        if s not in model_pi:\n",
    "            a = np.random.choice(aa, p=[1/len(aa) for _ in aa])\n",
    "        else:\n",
    "            a = np.random.choice(aa, p=[model_pi[s][a_p] for a_p in aa])\n",
    "        env.act_with_action_id(a)\n",
    "    games_played.append(game)\n",
    "    win_rate += env.score()\n",
    "    win_rates.append(win_rate)\n",
    "\n",
    "scores = (np.array(win_rates) / np.array(games_played))\n",
    "print(f\"Notre modèle pré-entrainé a gagné {scores[-1]*100}% des parties\")\n",
    "\n",
    "# TODO : Réaliser un graphique nombre de parties / taux de victoires\n",
    "plt.plot(games_played, scores);"
   ]
  },
  {
   "cell_type": "code",
   "execution_count": 30,
   "metadata": {
    "pycharm": {
     "name": "#%%\n"
    }
   },
   "outputs": [
    {
     "name": "stdout",
     "output_type": "stream",
     "text": [
      "Game Over: False\n",
      "score : 0.0\n",
      "S___L\n",
      "_____\n",
      "_____\n",
      "X____\n",
      "____W\n",
      "Game Over: False\n",
      "score : 0.0\n",
      "S___L\n",
      "_____\n",
      "_____\n",
      "X____\n",
      "____W\n",
      "Game Over: False\n",
      "score : 0.0\n",
      "S___L\n",
      "_____\n",
      "_____\n",
      "X____\n",
      "____W\n",
      "Game Over: False\n",
      "score : 0.0\n",
      "S___L\n",
      "_____\n",
      "_____\n",
      "X____\n",
      "____W\n",
      "Game Over: False\n",
      "score : 0.0\n",
      "S___L\n",
      "_____\n",
      "_____\n",
      "X____\n",
      "____W\n",
      "Game Over: False\n",
      "score : 0.0\n",
      "S___L\n",
      "_____\n",
      "_____\n",
      "X____\n",
      "____W\n",
      "Game Over: False\n",
      "score : 0.0\n",
      "S___L\n",
      "_____\n",
      "_____\n",
      "X____\n",
      "____W\n",
      "Game Over: False\n",
      "score : 0.0\n",
      "S___L\n",
      "_____\n",
      "_____\n",
      "X____\n",
      "____W\n",
      "Game Over: False\n",
      "score : 0.0\n",
      "S___L\n",
      "_____\n",
      "_____\n",
      "X____\n",
      "____W\n",
      "Game Over: False\n",
      "score : 0.0\n",
      "S___L\n",
      "_____\n",
      "_____\n",
      "X____\n",
      "____W\n",
      "Game Over: False\n",
      "score : 0.0\n",
      "S___L\n",
      "_____\n",
      "_____\n",
      "X____\n",
      "____W\n",
      "Game Over: False\n",
      "score : 0.0\n",
      "S___L\n",
      "_____\n",
      "_____\n",
      "X____\n",
      "____W\n",
      "Game Over: False\n",
      "score : 0.0\n",
      "S___L\n",
      "_____\n",
      "_____\n",
      "X____\n",
      "____W\n",
      "Game Over: False\n",
      "score : 0.0\n",
      "S___L\n",
      "_____\n",
      "_____\n",
      "X____\n",
      "____W\n",
      "Game Over: False\n",
      "score : 0.0\n",
      "S___L\n",
      "_____\n",
      "_____\n",
      "X____\n",
      "____W\n",
      "Game Over: False\n",
      "score : 0.0\n",
      "S___L\n",
      "_____\n",
      "_____\n",
      "X____\n",
      "____W\n",
      "Game Over: False\n",
      "score : 0.0\n",
      "S___L\n",
      "_____\n",
      "_____\n",
      "X____\n",
      "____W\n",
      "Game Over: False\n",
      "score : 0.0\n",
      "S___L\n",
      "_____\n",
      "_____\n",
      "X____\n",
      "____W\n",
      "Game Over: False\n",
      "score : 0.0\n",
      "S___L\n",
      "_____\n",
      "_____\n",
      "X____\n",
      "____W\n",
      "Game Over: False\n",
      "score : 0.0\n",
      "S___L\n",
      "_____\n",
      "_____\n",
      "X____\n",
      "____W\n",
      "Game Over: False\n",
      "score : 0.0\n",
      "S___L\n",
      "_____\n",
      "_____\n",
      "X____\n",
      "____W\n",
      "Game Over: False\n",
      "score : 0.0\n",
      "S___L\n",
      "_____\n",
      "_____\n",
      "X____\n",
      "____W\n",
      "Game Over: False\n",
      "score : 0.0\n",
      "S___L\n",
      "_____\n",
      "_____\n",
      "X____\n",
      "____W\n",
      "Game Over: False\n",
      "score : 0.0\n",
      "S___L\n",
      "_____\n",
      "_____\n",
      "X____\n",
      "____W\n",
      "Game Over: False\n",
      "score : 0.0\n",
      "S___L\n",
      "_____\n",
      "_____\n",
      "X____\n",
      "____W\n",
      "Game Over: False\n",
      "score : 0.0\n",
      "S___L\n",
      "_____\n",
      "_____\n",
      "X____\n",
      "____W\n",
      "Game Over: False\n",
      "score : 0.0\n",
      "S___L\n",
      "_____\n",
      "_____\n",
      "X____\n",
      "____W\n",
      "Game Over: False\n",
      "score : 0.0\n",
      "S___L\n",
      "_____\n",
      "_____\n",
      "X____\n",
      "____W\n",
      "Game Over: False\n",
      "score : 0.0\n",
      "S___L\n",
      "_____\n",
      "_____\n",
      "X____\n",
      "____W\n",
      "Game Over: False\n",
      "score : 0.0\n",
      "S___L\n",
      "_____\n",
      "_____\n",
      "X____\n",
      "____W\n",
      "Game Over: False\n",
      "score : 0.0\n",
      "S___L\n",
      "_____\n",
      "_____\n",
      "X____\n",
      "____W\n",
      "Game Over: False\n",
      "score : 0.0\n",
      "S___L\n",
      "_____\n",
      "_____\n",
      "X____\n",
      "____W\n",
      "Game Over: False\n",
      "score : 0.0\n",
      "S___L\n",
      "_____\n",
      "_____\n",
      "X____\n",
      "____W\n",
      "Game Over: False\n",
      "score : 0.0\n",
      "S___L\n",
      "_____\n",
      "_____\n",
      "X____\n",
      "____W\n",
      "Game Over: False\n",
      "score : 0.0\n",
      "S___L\n",
      "_____\n",
      "_____\n",
      "X____\n",
      "____W\n",
      "Game Over: False\n",
      "score : 0.0\n",
      "S___L\n",
      "_____\n",
      "_____\n",
      "X____\n",
      "____W\n",
      "Game Over: False\n",
      "score : 0.0\n",
      "S___L\n",
      "_____\n",
      "_____\n",
      "X____\n",
      "____W\n",
      "Game Over: False\n",
      "score : 0.0\n",
      "S___L\n",
      "_____\n",
      "_____\n",
      "X____\n",
      "____W\n",
      "Game Over: False\n",
      "score : 0.0\n",
      "S___L\n",
      "_____\n",
      "_____\n",
      "X____\n",
      "____W\n",
      "Game Over: False\n",
      "score : 0.0\n",
      "S___L\n",
      "_____\n",
      "_____\n",
      "X____\n",
      "____W\n",
      "Game Over: False\n",
      "score : 0.0\n",
      "S___L\n",
      "_____\n",
      "_____\n",
      "X____\n",
      "____W\n",
      "Game Over: False\n",
      "score : 0.0\n",
      "S___L\n",
      "_____\n",
      "_____\n",
      "X____\n",
      "____W\n",
      "Game Over: False\n",
      "score : 0.0\n",
      "S___L\n",
      "_____\n",
      "_____\n",
      "X____\n",
      "____W\n",
      "Game Over: False\n",
      "score : 0.0\n",
      "S___L\n",
      "_____\n",
      "_____\n",
      "X____\n",
      "____W\n",
      "Game Over: False\n",
      "score : 0.0\n",
      "S___L\n",
      "_____\n",
      "_____\n",
      "X____\n",
      "____W\n",
      "Game Over: False\n",
      "score : 0.0\n",
      "S___L\n",
      "_____\n",
      "_____\n",
      "X____\n",
      "____W\n",
      "Game Over: False\n",
      "score : 0.0\n",
      "S___L\n",
      "_____\n",
      "_____\n",
      "X____\n",
      "____W\n",
      "Game Over: False\n",
      "score : 0.0\n",
      "S___L\n",
      "_____\n",
      "_____\n",
      "X____\n",
      "____W\n",
      "Game Over: False\n",
      "score : 0.0\n",
      "S___L\n",
      "_____\n",
      "_____\n",
      "X____\n",
      "____W\n",
      "Game Over: False\n",
      "score : 0.0\n",
      "S___L\n",
      "_____\n",
      "_____\n",
      "X____\n",
      "____W\n",
      "Game Over: True\n",
      "score : 0.0\n",
      "S___L\n",
      "_____\n",
      "_____\n",
      "X____\n",
      "____W\n",
      "win rate : 0.0\n",
      "game played : 1\n"
     ]
    }
   ],
   "source": [
    "# TODO : Lancer une seule partie avec notre modèle en visualisant le déroulement (env.view())\n",
    "env.reset_random()\n",
    "while not env.is_game_over():\n",
    "    s = env.state_id()\n",
    "    aa = env.available_actions_ids()\n",
    "    if s not in model_pi:\n",
    "        a = np.random.choice(aa, p=[1/len(aa) for _ in aa])\n",
    "    else:\n",
    "        a = np.random.choice(aa, p=[model_pi[s][a_p] for a_p in aa])\n",
    "    env.act_with_action_id(a)\n",
    "    env.view()"
   ]
  },
  {
   "cell_type": "markdown",
   "metadata": {
    "pycharm": {
     "name": "#%% md\n"
    }
   },
   "source": [
    "### Tic Tac Toe"
   ]
  },
  {
   "cell_type": "code",
   "execution_count": 31,
   "metadata": {
    "pycharm": {
     "name": "#%%\n"
    }
   },
   "outputs": [
    {
     "name": "stdout",
     "output_type": "stream",
     "text": [
      "Notre modèle pré-entrainé a gagné 98.1% des parties\n"
     ]
    },
    {
     "data": {
      "text/plain": "<Figure size 432x288 with 1 Axes>",
      "image/png": "[encoded data removed]"
     },
     "metadata": {
      "needs_background": "light"
     },
     "output_type": "display_data"
    }
   ],
   "source": [
    "env = TicTacToe()\n",
    "\n",
    "# TODO : Charger le meilleur modèle\n",
    "model_pi = load_model('off_policy_monte_carlo_control_on_ttt_iter_83350_score_0.99_pi')\n",
    "\n",
    "# TODO : Lancer 1.000 parties avec notre modèle\n",
    "games_played = []\n",
    "win_rates = []\n",
    "win_rate = 0.0\n",
    "\n",
    "for game in range(1, 1_001):\n",
    "    env.reset()\n",
    "    while not env.is_game_over():\n",
    "        s = env.state_id()\n",
    "        aa = env.available_actions_ids()\n",
    "        if s not in model_pi:\n",
    "            a = np.random.choice(aa, p=[1/len(aa) for _ in aa])\n",
    "        else:\n",
    "            a = np.random.choice(aa, p=[model_pi[s][a_p] for a_p in aa])\n",
    "        env.act_with_action_id(a)\n",
    "    games_played.append(game)\n",
    "    win_rate += env.score()\n",
    "    win_rates.append(win_rate)\n",
    "\n",
    "scores = (np.array(win_rates) / np.array(games_played))\n",
    "print(f\"Notre modèle pré-entrainé a gagné {scores[-1]*100}% des parties\")\n",
    "\n",
    "# TODO : Réaliser un graphique nombre de parties / taux de victoires\n",
    "plt.plot(games_played, scores);"
   ]
  },
  {
   "cell_type": "code",
   "execution_count": 32,
   "metadata": {
    "pycharm": {
     "name": "#%%\n"
    }
   },
   "outputs": [
    {
     "name": "stdout",
     "output_type": "stream",
     "text": [
      "Game Over: False\n",
      "score : 0.0\n",
      "XO_\n",
      "___\n",
      "___\n",
      "Game Over: False\n",
      "score : 0.0\n",
      "XO_\n",
      "XO_\n",
      "___\n",
      "Game Over: True\n",
      "score : 1.0\n",
      "XO_\n",
      "XO_\n",
      "X__\n",
      "win rate : 1.0\n",
      "game played : 1\n"
     ]
    }
   ],
   "source": [
    "# TODO : Lancer une seule partie avec notre modèle en visualisant le déroulement (env.view())\n",
    "env.reset()\n",
    "while not env.is_game_over():\n",
    "    s = env.state_id()\n",
    "    aa = env.available_actions_ids()\n",
    "    if s not in model_pi:\n",
    "        a = np.random.choice(aa, p=[1/len(aa) for _ in aa])\n",
    "    else:\n",
    "        a = np.random.choice(aa, p=[model_pi[s][a_p] for a_p in aa])\n",
    "    env.act_with_action_id(a)\n",
    "    env.view()"
   ]
  },
  {
   "cell_type": "markdown",
   "metadata": {
    "pycharm": {
     "name": "#%% md\n"
    }
   },
   "source": [
    "### Secret Env 2"
   ]
  },
  {
   "cell_type": "code",
   "execution_count": 33,
   "metadata": {
    "pycharm": {
     "name": "#%%\n"
    }
   },
   "outputs": [
    {
     "name": "stdout",
     "output_type": "stream",
     "text": [
      "Notre modèle pré-entrainé a gagné 65.9% des parties\n"
     ]
    },
    {
     "data": {
      "text/plain": "<Figure size 432x288 with 1 Axes>",
      "image/png": "[encoded data removed]"
     },
     "metadata": {
      "needs_background": "light"
     },
     "output_type": "display_data"
    }
   ],
   "source": [
    "env = Env2()\n",
    "\n",
    "# TODO : Charger le meilleur modèle\n",
    "model_pi = load_model('off_policy_mcc_on_env2_iter_50050_score_0.706_pi')\n",
    "\n",
    "# TODO : Lancer 1.000 parties avec notre modèle\n",
    "games_played = []\n",
    "win_rates = []\n",
    "win_rate = 0.0\n",
    "\n",
    "for game in range(1, 1_001):\n",
    "    env.reset()\n",
    "    while not env.is_game_over():\n",
    "        s = env.state_id()\n",
    "        aa = env.available_actions_ids()\n",
    "        if s not in model_pi:\n",
    "            a = np.random.choice(aa, p=[1/len(aa) for _ in aa])\n",
    "        else:\n",
    "            a = np.random.choice(aa, p=[model_pi[s][a_p] for a_p in aa])\n",
    "        env.act_with_action_id(a)\n",
    "    games_played.append(game)\n",
    "    win_rate += env.score()\n",
    "    win_rates.append(win_rate)\n",
    "\n",
    "scores = (np.array(win_rates) / np.array(games_played))\n",
    "print(f\"Notre modèle pré-entrainé a gagné {scores[-1]*100}% des parties\")\n",
    "\n",
    "# TODO : Réaliser un graphique nombre de parties / taux de victoires\n",
    "plt.plot(games_played, scores);"
   ]
  },
  {
   "cell_type": "code",
   "execution_count": 34,
   "metadata": {
    "pycharm": {
     "name": "#%%\n"
    }
   },
   "outputs": [
    {
     "name": "stdout",
     "output_type": "stream",
     "text": [
      "It's secret !\n",
      "It's secret !\n"
     ]
    }
   ],
   "source": [
    "# TODO : Lancer une seule partie avec notre modèle en visualisant le déroulement (env.view())\n",
    "env.reset()\n",
    "while not env.is_game_over():\n",
    "    s = env.state_id()\n",
    "    aa = env.available_actions_ids()\n",
    "    if s not in model_pi:\n",
    "        a = np.random.choice(aa, p=[1/len(aa) for _ in aa])\n",
    "    else:\n",
    "        a = np.random.choice(aa, p=[model_pi[s][a_p] for a_p in aa])\n",
    "    env.act_with_action_id(a)\n",
    "    env.view()"
   ]
  },
  {
   "cell_type": "markdown",
   "metadata": {
    "pycharm": {
     "name": "#%% md\n"
    }
   },
   "source": [
    "# Temporal Difference Learning"
   ]
  },
  {
   "cell_type": "markdown",
   "metadata": {
    "pycharm": {
     "name": "#%% md\n"
    }
   },
   "source": [
    "## SARSA"
   ]
  },
  {
   "cell_type": "markdown",
   "metadata": {
    "pycharm": {
     "name": "#%% md\n"
    }
   },
   "source": [
    "### Line World"
   ]
  },
  {
   "cell_type": "code",
   "execution_count": 35,
   "metadata": {
    "pycharm": {
     "name": "#%%\n"
    }
   },
   "outputs": [
    {
     "name": "stdout",
     "output_type": "stream",
     "text": [
      "Notre modèle pré-entrainé a gagné 100.0% des parties\n"
     ]
    },
    {
     "data": {
      "text/plain": "<Figure size 432x288 with 1 Axes>",
      "image/png": "[encoded data removed]"
     },
     "metadata": {
      "needs_background": "light"
     },
     "output_type": "display_data"
    }
   ],
   "source": [
    "env = LineWorld(7)\n",
    "\n",
    "# TODO : Charger le meilleur modèle\n",
    "model_pi = load_model('sarsa_on_line_world_it_100_eps_0.001_alp_0.255_s_1.0_pi')\n",
    "\n",
    "# TODO : Lancer 1.000 parties avec notre modèle\n",
    "games_played = []\n",
    "win_rates = []\n",
    "win_rate = 0.0\n",
    "\n",
    "for game in range(1, 1_001):\n",
    "    env.reset()\n",
    "    while not env.is_game_over():\n",
    "        s = env.state_id()\n",
    "        aa = env.available_actions_ids()\n",
    "        if s not in model_pi:\n",
    "            a = np.random.choice(aa, p=[1/len(aa) for _ in aa])\n",
    "        else:\n",
    "            a = np.random.choice(aa, p=[model_pi[s][a_p] for a_p in aa])\n",
    "        env.act_with_action_id(a)\n",
    "    games_played.append(game)\n",
    "    win_rate += env.score()\n",
    "    win_rates.append(win_rate)\n",
    "\n",
    "scores = (np.array(win_rates) / np.array(games_played))\n",
    "print(f\"Notre modèle pré-entrainé a gagné {scores[-1]*100}% des parties\")\n",
    "\n",
    "# TODO : Réaliser un graphique nombre de parties / taux de victoires\n",
    "plt.plot(games_played, scores);"
   ]
  },
  {
   "cell_type": "code",
   "execution_count": 36,
   "metadata": {
    "pycharm": {
     "name": "#%%\n"
    }
   },
   "outputs": [
    {
     "name": "stdout",
     "output_type": "stream",
     "text": [
      "Game Over: False\n",
      "score : 0.0\n",
      "L___X_W\n",
      "Game Over: False\n",
      "score : 0.0\n",
      "L____XW\n",
      "Game Over: True\n",
      "score : 1.0\n",
      "L_____X\n",
      "win rate : 1.0\n",
      "game played : 1\n"
     ]
    }
   ],
   "source": [
    "# TODO : Lancer une seule partie avec notre modèle en visualisant le déroulement (env.view())\n",
    "env.reset()\n",
    "while not env.is_game_over():\n",
    "    s = env.state_id()\n",
    "    aa = env.available_actions_ids()\n",
    "    if s not in model_pi:\n",
    "        a = np.random.choice(aa, p=[1/len(aa) for _ in aa])\n",
    "    else:\n",
    "        a = np.random.choice(aa, p=[model_pi[s][a_p] for a_p in aa])\n",
    "    env.act_with_action_id(a)\n",
    "    env.view()"
   ]
  },
  {
   "cell_type": "markdown",
   "metadata": {
    "pycharm": {
     "name": "#%% md\n"
    }
   },
   "source": [
    "### Grid World"
   ]
  },
  {
   "cell_type": "code",
   "execution_count": 37,
   "metadata": {
    "pycharm": {
     "name": "#%%\n"
    }
   },
   "outputs": [
    {
     "name": "stdout",
     "output_type": "stream",
     "text": [
      "Notre modèle pré-entrainé a gagné 100.0% des parties\n"
     ]
    },
    {
     "data": {
      "text/plain": "<Figure size 432x288 with 1 Axes>",
      "image/png": "[encoded data removed]"
     },
     "metadata": {
      "needs_background": "light"
     },
     "output_type": "display_data"
    }
   ],
   "source": [
    "env = GridWorld()\n",
    "\n",
    "# TODO : Charger le meilleur modèle\n",
    "model_pi = load_model('sarsa_on_grid_world_it_50050_eps_0.001_alp_0.01_s_1.0_pi')\n",
    "\n",
    "# TODO : Lancer 1.000 parties avec notre modèle\n",
    "games_played = []\n",
    "win_rates = []\n",
    "win_rate = 0.0\n",
    "\n",
    "for game in range(1, 1_001):\n",
    "    env.reset()\n",
    "    while not env.is_game_over():\n",
    "        s = env.state_id()\n",
    "        aa = env.available_actions_ids()\n",
    "        if s not in model_pi:\n",
    "            a = np.random.choice(aa, p=[1/len(aa) for _ in aa])\n",
    "        else:\n",
    "            a = np.random.choice(aa, p=[model_pi[s][a_p] for a_p in aa])\n",
    "        env.act_with_action_id(a)\n",
    "    games_played.append(game)\n",
    "    win_rate += env.score()\n",
    "    win_rates.append(win_rate)\n",
    "\n",
    "scores = (np.array(win_rates) / np.array(games_played))\n",
    "print(f\"Notre modèle pré-entrainé a gagné {scores[-1]*100}% des parties\")\n",
    "\n",
    "# TODO : Réaliser un graphique nombre de parties / taux de victoires\n",
    "plt.plot(games_played, scores);"
   ]
  },
  {
   "cell_type": "code",
   "execution_count": 38,
   "metadata": {
    "pycharm": {
     "name": "#%%\n"
    }
   },
   "outputs": [
    {
     "name": "stdout",
     "output_type": "stream",
     "text": [
      "Game Over: False\n",
      "score : 0.0\n",
      "SX__L\n",
      "_____\n",
      "_____\n",
      "_____\n",
      "____W\n",
      "Game Over: False\n",
      "score : 0.0\n",
      "S___L\n",
      "_X___\n",
      "_____\n",
      "_____\n",
      "____W\n",
      "Game Over: False\n",
      "score : 0.0\n",
      "S___L\n",
      "_____\n",
      "_X___\n",
      "_____\n",
      "____W\n",
      "Game Over: False\n",
      "score : 0.0\n",
      "S___L\n",
      "_____\n",
      "_____\n",
      "_X___\n",
      "____W\n",
      "Game Over: False\n",
      "score : 0.0\n",
      "S___L\n",
      "_____\n",
      "_____\n",
      "_____\n",
      "_X__W\n",
      "Game Over: False\n",
      "score : 0.0\n",
      "S___L\n",
      "_____\n",
      "_____\n",
      "_____\n",
      "__X_W\n",
      "Game Over: False\n",
      "score : 0.0\n",
      "S___L\n",
      "_____\n",
      "_____\n",
      "__X__\n",
      "____W\n",
      "Game Over: False\n",
      "score : 0.0\n",
      "S___L\n",
      "_____\n",
      "_____\n",
      "___X_\n",
      "____W\n",
      "Game Over: False\n",
      "score : 0.0\n",
      "S___L\n",
      "_____\n",
      "_____\n",
      "____X\n",
      "____W\n",
      "Game Over: True\n",
      "score : 1.0\n",
      "S___L\n",
      "_____\n",
      "_____\n",
      "_____\n",
      "____X\n",
      "win rate : 1.0\n",
      "game played : 1\n"
     ]
    }
   ],
   "source": [
    "# TODO : Lancer une seule partie avec notre modèle en visualisant le déroulement (env.view())\n",
    "env.reset()\n",
    "while not env.is_game_over():\n",
    "    s = env.state_id()\n",
    "    aa = env.available_actions_ids()\n",
    "    if s not in model_pi:\n",
    "        a = np.random.choice(aa, p=[1/len(aa) for _ in aa])\n",
    "    else:\n",
    "        a = np.random.choice(aa, p=[model_pi[s][a_p] for a_p in aa])\n",
    "    env.act_with_action_id(a)\n",
    "    env.view()"
   ]
  },
  {
   "cell_type": "markdown",
   "metadata": {
    "pycharm": {
     "name": "#%% md\n"
    }
   },
   "source": [
    "### Tic Tac Toe"
   ]
  },
  {
   "cell_type": "code",
   "execution_count": 39,
   "metadata": {
    "pycharm": {
     "name": "#%%\n"
    }
   },
   "outputs": [
    {
     "name": "stdout",
     "output_type": "stream",
     "text": [
      "Notre modèle pré-entrainé a gagné 96.6% des parties\n"
     ]
    },
    {
     "data": {
      "text/plain": "<Figure size 432x288 with 1 Axes>",
      "image/png": "[encoded data removed]"
     },
     "metadata": {
      "needs_background": "light"
     },
     "output_type": "display_data"
    }
   ],
   "source": [
    "env = TicTacToe()\n",
    "\n",
    "# TODO : Charger le meilleur modèle\n",
    "model_pi = load_model('sarsa_on_ttt_it_100000_eps_0.001_alp_0.255_s_0.976_pi')\n",
    "\n",
    "# TODO : Lancer 1.000 parties avec notre modèle\n",
    "games_played = []\n",
    "win_rates = []\n",
    "win_rate = 0.0\n",
    "\n",
    "for game in range(1, 1_001):\n",
    "    env.reset()\n",
    "    while not env.is_game_over():\n",
    "        s = env.state_id()\n",
    "        aa = env.available_actions_ids()\n",
    "        if s not in model_pi:\n",
    "            a = np.random.choice(aa, p=[1/len(aa) for _ in aa])\n",
    "        else:\n",
    "            a = np.random.choice(aa, p=[model_pi[s][a_p] for a_p in aa])\n",
    "        env.act_with_action_id(a)\n",
    "    games_played.append(game)\n",
    "    win_rate += env.score()\n",
    "    win_rates.append(win_rate)\n",
    "\n",
    "scores = (np.array(win_rates) / np.array(games_played))\n",
    "print(f\"Notre modèle pré-entrainé a gagné {scores[-1]*100}% des parties\")\n",
    "\n",
    "# TODO : Réaliser un graphique nombre de parties / taux de victoires\n",
    "plt.plot(games_played, scores);"
   ]
  },
  {
   "cell_type": "code",
   "execution_count": 40,
   "metadata": {
    "pycharm": {
     "name": "#%%\n"
    }
   },
   "outputs": [
    {
     "name": "stdout",
     "output_type": "stream",
     "text": [
      "Game Over: False\n",
      "score : 0.0\n",
      "X__\n",
      "___\n",
      "__O\n",
      "Game Over: False\n",
      "score : 0.0\n",
      "X_X\n",
      "__O\n",
      "__O\n",
      "Game Over: False\n",
      "score : 0.0\n",
      "XOX\n",
      "__O\n",
      "X_O\n",
      "Game Over: True\n",
      "score : 1.0\n",
      "XOX\n",
      "_XO\n",
      "X_O\n",
      "win rate : 1.0\n",
      "game played : 1\n"
     ]
    }
   ],
   "source": [
    "# TODO : Lancer une seule partie avec notre modèle en visualisant le déroulement (env.view())\n",
    "env.reset()\n",
    "while not env.is_game_over():\n",
    "    s = env.state_id()\n",
    "    aa = env.available_actions_ids()\n",
    "    if s not in model_pi:\n",
    "        a = np.random.choice(aa, p=[1/len(aa) for _ in aa])\n",
    "    else:\n",
    "        a = np.random.choice(aa, p=[model_pi[s][a_p] for a_p in aa])\n",
    "    env.act_with_action_id(a)\n",
    "    env.view()"
   ]
  },
  {
   "cell_type": "markdown",
   "source": [
    "### Secret Env 3"
   ],
   "metadata": {
    "collapsed": false,
    "pycharm": {
     "name": "#%% md\n"
    }
   }
  },
  {
   "cell_type": "code",
   "execution_count": 41,
   "outputs": [
    {
     "name": "stdout",
     "output_type": "stream",
     "text": [
      "Notre modèle pré-entrainé a gagné 48.4% des parties\n"
     ]
    },
    {
     "data": {
      "text/plain": "<Figure size 432x288 with 1 Axes>",
      "image/png": "[encoded data removed]"
     },
     "metadata": {
      "needs_background": "light"
     },
     "output_type": "display_data"
    }
   ],
   "source": [
    "env = Env3()\n",
    "\n",
    "# TODO : Charger le meilleur modèle\n",
    "model_pi = load_model('sarsa_on_env3_it_100000_eps_0.5_alp_0.01_s_0.534_pi')\n",
    "\n",
    "# TODO : Lancer 1.000 parties avec notre modèle\n",
    "games_played = []\n",
    "win_rates = []\n",
    "win_rate = 0.0\n",
    "\n",
    "for game in range(1, 1_001):\n",
    "    env.reset()\n",
    "    while not env.is_game_over():\n",
    "        s = env.state_id()\n",
    "        aa = env.available_actions_ids()\n",
    "        if s not in model_pi:\n",
    "            a = np.random.choice(aa, p=[1/len(aa) for _ in aa])\n",
    "        else:\n",
    "            a = np.random.choice(aa, p=[model_pi[s][a_p] for a_p in aa])\n",
    "        env.act_with_action_id(a)\n",
    "    games_played.append(game)\n",
    "    win_rate += env.score()\n",
    "    win_rates.append(win_rate)\n",
    "\n",
    "scores = (np.array(win_rates) / np.array(games_played))\n",
    "print(f\"Notre modèle pré-entrainé a gagné {scores[-1]*100}% des parties\")\n",
    "\n",
    "# TODO : Réaliser un graphique nombre de parties / taux de victoires\n",
    "plt.plot(games_played, scores);"
   ],
   "metadata": {
    "collapsed": false,
    "pycharm": {
     "name": "#%%\n"
    }
   }
  },
  {
   "cell_type": "code",
   "execution_count": 42,
   "outputs": [
    {
     "name": "stdout",
     "output_type": "stream",
     "text": [
      "It's secret !\n",
      "It's secret !\n",
      "It's secret !\n",
      "It's secret !\n",
      "It's secret !\n",
      "It's secret !\n",
      "It's secret !\n",
      "It's secret !\n",
      "It's secret !\n",
      "It's secret !\n"
     ]
    }
   ],
   "source": [
    "# TODO : Lancer une seule partie avec notre modèle en visualisant le déroulement (env.view())\n",
    "env.reset()\n",
    "while not env.is_game_over():\n",
    "    s = env.state_id()\n",
    "    aa = env.available_actions_ids()\n",
    "    if s not in model_pi:\n",
    "        a = np.random.choice(aa, p=[1/len(aa) for _ in aa])\n",
    "    else:\n",
    "        a = np.random.choice(aa, p=[model_pi[s][a_p] for a_p in aa])\n",
    "    env.act_with_action_id(a)\n",
    "    env.view()"
   ],
   "metadata": {
    "collapsed": false,
    "pycharm": {
     "name": "#%%\n"
    }
   }
  },
  {
   "cell_type": "markdown",
   "source": [
    "## Q-Learning"
   ],
   "metadata": {
    "collapsed": false,
    "pycharm": {
     "name": "#%% md\n"
    }
   }
  },
  {
   "cell_type": "markdown",
   "source": [
    "### Line World"
   ],
   "metadata": {
    "collapsed": false,
    "pycharm": {
     "name": "#%% md\n"
    }
   }
  },
  {
   "cell_type": "code",
   "execution_count": 43,
   "outputs": [
    {
     "name": "stdout",
     "output_type": "stream",
     "text": [
      "Notre modèle pré-entrainé a gagné 100.0% des parties\n"
     ]
    },
    {
     "data": {
      "text/plain": "<Figure size 432x288 with 1 Axes>",
      "image/png": "[encoded data removed]"
     },
     "metadata": {
      "needs_background": "light"
     },
     "output_type": "display_data"
    }
   ],
   "source": [
    "env = LineWorld(7)\n",
    "\n",
    "# TODO : Charger le meilleur modèle\n",
    "model_pi = load_model('q_learning_on_line_world_it_100_eps_0.001_alp_0.5_s_1.0_pi')\n",
    "\n",
    "# TODO : Lancer 1.000 parties avec notre modèle\n",
    "games_played = []\n",
    "win_rates = []\n",
    "win_rate = 0.0\n",
    "\n",
    "for game in range(1, 1_001):\n",
    "    env.reset()\n",
    "    while not env.is_game_over():\n",
    "        s = env.state_id()\n",
    "        aa = env.available_actions_ids()\n",
    "        if s not in model_pi:\n",
    "            a = np.random.choice(aa, p=[1/len(aa) for _ in aa])\n",
    "        else:\n",
    "            a = np.random.choice(aa, p=[model_pi[s][a_p] for a_p in aa])\n",
    "        env.act_with_action_id(a)\n",
    "    games_played.append(game)\n",
    "    win_rate += env.score()\n",
    "    win_rates.append(win_rate)\n",
    "\n",
    "scores = (np.array(win_rates) / np.array(games_played))\n",
    "print(f\"Notre modèle pré-entrainé a gagné {scores[-1]*100}% des parties\")\n",
    "\n",
    "# TODO : Réaliser un graphique nombre de parties / taux de victoires\n",
    "plt.plot(games_played, scores);"
   ],
   "metadata": {
    "collapsed": false,
    "pycharm": {
     "name": "#%%\n"
    }
   }
  },
  {
   "cell_type": "code",
   "execution_count": 44,
   "outputs": [
    {
     "name": "stdout",
     "output_type": "stream",
     "text": [
      "Game Over: False\n",
      "score : 0.0\n",
      "L___X_W\n",
      "Game Over: False\n",
      "score : 0.0\n",
      "L____XW\n",
      "Game Over: True\n",
      "score : 1.0\n",
      "L_____X\n",
      "win rate : 1.0\n",
      "game played : 1\n"
     ]
    }
   ],
   "source": [
    "# TODO : Lancer une seule partie avec notre modèle en visualisant le déroulement (env.view())\n",
    "env.reset()\n",
    "while not env.is_game_over():\n",
    "    s = env.state_id()\n",
    "    aa = env.available_actions_ids()\n",
    "    if s not in model_pi:\n",
    "        a = np.random.choice(aa, p=[1/len(aa) for _ in aa])\n",
    "    else:\n",
    "        a = np.random.choice(aa, p=[model_pi[s][a_p] for a_p in aa])\n",
    "    env.act_with_action_id(a)\n",
    "    env.view()"
   ],
   "metadata": {
    "collapsed": false,
    "pycharm": {
     "name": "#%%\n"
    }
   }
  },
  {
   "cell_type": "markdown",
   "source": [
    "### Grid World"
   ],
   "metadata": {
    "collapsed": false,
    "pycharm": {
     "name": "#%% md\n"
    }
   }
  },
  {
   "cell_type": "code",
   "execution_count": 45,
   "outputs": [
    {
     "name": "stdout",
     "output_type": "stream",
     "text": [
      "Notre modèle pré-entrainé a gagné 100.0% des parties\n"
     ]
    },
    {
     "data": {
      "text/plain": "<Figure size 432x288 with 1 Axes>",
      "image/png": "[encoded data removed]"
     },
     "metadata": {
      "needs_background": "light"
     },
     "output_type": "display_data"
    }
   ],
   "source": [
    "env = GridWorld()\n",
    "\n",
    "# TODO : Charger le meilleur modèle\n",
    "model_pi = load_model('q_learning_on_grid_world_it_50050_eps_0.001_alp_0.01_s_1.0_pi')\n",
    "\n",
    "# TODO : Lancer 1.000 parties avec notre modèle\n",
    "games_played = []\n",
    "win_rates = []\n",
    "win_rate = 0.0\n",
    "\n",
    "for game in range(1, 1_001):\n",
    "    env.reset()\n",
    "    while not env.is_game_over():\n",
    "        s = env.state_id()\n",
    "        aa = env.available_actions_ids()\n",
    "        if s not in model_pi:\n",
    "            a = np.random.choice(aa, p=[1/len(aa) for _ in aa])\n",
    "        else:\n",
    "            a = np.random.choice(aa, p=[model_pi[s][a_p] for a_p in aa])\n",
    "        env.act_with_action_id(a)\n",
    "    games_played.append(game)\n",
    "    win_rate += env.score()\n",
    "    win_rates.append(win_rate)\n",
    "\n",
    "scores = (np.array(win_rates) / np.array(games_played))\n",
    "print(f\"Notre modèle pré-entrainé a gagné {scores[-1]*100}% des parties\")\n",
    "\n",
    "# TODO : Réaliser un graphique nombre de parties / taux de victoires\n",
    "plt.plot(games_played, scores);"
   ],
   "metadata": {
    "collapsed": false,
    "pycharm": {
     "name": "#%%\n"
    }
   }
  },
  {
   "cell_type": "code",
   "execution_count": 46,
   "outputs": [
    {
     "name": "stdout",
     "output_type": "stream",
     "text": [
      "Game Over: False\n",
      "score : 0.0\n",
      "SX__L\n",
      "_____\n",
      "_____\n",
      "_____\n",
      "____W\n",
      "Game Over: False\n",
      "score : 0.0\n",
      "S___L\n",
      "_X___\n",
      "_____\n",
      "_____\n",
      "____W\n",
      "Game Over: False\n",
      "score : 0.0\n",
      "S___L\n",
      "_____\n",
      "_X___\n",
      "_____\n",
      "____W\n",
      "Game Over: False\n",
      "score : 0.0\n",
      "S___L\n",
      "_____\n",
      "_____\n",
      "_X___\n",
      "____W\n",
      "Game Over: False\n",
      "score : 0.0\n",
      "S___L\n",
      "_____\n",
      "_____\n",
      "_____\n",
      "_X__W\n",
      "Game Over: False\n",
      "score : 0.0\n",
      "S___L\n",
      "_____\n",
      "_____\n",
      "_____\n",
      "__X_W\n",
      "Game Over: False\n",
      "score : 0.0\n",
      "S___L\n",
      "_____\n",
      "_____\n",
      "_____\n",
      "___XW\n",
      "Game Over: True\n",
      "score : 1.0\n",
      "S___L\n",
      "_____\n",
      "_____\n",
      "_____\n",
      "____X\n",
      "win rate : 1.0\n",
      "game played : 1\n"
     ]
    }
   ],
   "source": [
    "# TODO : Lancer une seule partie avec notre modèle en visualisant le déroulement (env.view())\n",
    "env.reset()\n",
    "while not env.is_game_over():\n",
    "    s = env.state_id()\n",
    "    aa = env.available_actions_ids()\n",
    "    if s not in model_pi:\n",
    "        a = np.random.choice(aa, p=[1/len(aa) for _ in aa])\n",
    "    else:\n",
    "        a = np.random.choice(aa, p=[model_pi[s][a_p] for a_p in aa])\n",
    "    env.act_with_action_id(a)\n",
    "    env.view()"
   ],
   "metadata": {
    "collapsed": false,
    "pycharm": {
     "name": "#%%\n"
    }
   }
  },
  {
   "cell_type": "markdown",
   "source": [
    "### Tic Tac Toe"
   ],
   "metadata": {
    "collapsed": false,
    "pycharm": {
     "name": "#%% md\n"
    }
   }
  },
  {
   "cell_type": "code",
   "execution_count": 47,
   "outputs": [
    {
     "name": "stdout",
     "output_type": "stream",
     "text": [
      "Notre modèle pré-entrainé a gagné 98.8% des parties\n"
     ]
    },
    {
     "data": {
      "text/plain": "<Figure size 432x288 with 1 Axes>",
      "image/png": "[encoded data removed]"
     },
     "metadata": {
      "needs_background": "light"
     },
     "output_type": "display_data"
    }
   ],
   "source": [
    "env = TicTacToe()\n",
    "\n",
    "# TODO : Charger le meilleur modèle\n",
    "model_pi = load_model('q_learning_on_ttt_it_100000_eps_0.251_alp_0.5_s_0.994_pi')\n",
    "\n",
    "# TODO : Lancer 1.000 parties avec notre modèle\n",
    "games_played = []\n",
    "win_rates = []\n",
    "win_rate = 0.0\n",
    "\n",
    "for game in range(1, 1_001):\n",
    "    env.reset()\n",
    "    while not env.is_game_over():\n",
    "        s = env.state_id()\n",
    "        aa = env.available_actions_ids()\n",
    "        if s not in model_pi:\n",
    "            a = np.random.choice(aa, p=[1/len(aa) for _ in aa])\n",
    "        else:\n",
    "            a = np.random.choice(aa, p=[model_pi[s][a_p] for a_p in aa])\n",
    "        env.act_with_action_id(a)\n",
    "    games_played.append(game)\n",
    "    win_rate += env.score()\n",
    "    win_rates.append(win_rate)\n",
    "\n",
    "scores = (np.array(win_rates) / np.array(games_played))\n",
    "print(f\"Notre modèle pré-entrainé a gagné {scores[-1]*100}% des parties\")\n",
    "\n",
    "# TODO : Réaliser un graphique nombre de parties / taux de victoires\n",
    "plt.plot(games_played, scores);"
   ],
   "metadata": {
    "collapsed": false,
    "pycharm": {
     "name": "#%%\n"
    }
   }
  },
  {
   "cell_type": "code",
   "execution_count": 48,
   "outputs": [
    {
     "name": "stdout",
     "output_type": "stream",
     "text": [
      "Game Over: False\n",
      "score : 0.0\n",
      "_O_\n",
      "___\n",
      "X__\n",
      "Game Over: False\n",
      "score : 0.0\n",
      "XO_\n",
      "___\n",
      "X_O\n",
      "Game Over: True\n",
      "score : 1.0\n",
      "XO_\n",
      "X__\n",
      "X_O\n",
      "win rate : 1.0\n",
      "game played : 1\n"
     ]
    }
   ],
   "source": [
    "# TODO : Lancer une seule partie avec notre modèle en visualisant le déroulement (env.view())\n",
    "env.reset()\n",
    "while not env.is_game_over():\n",
    "    s = env.state_id()\n",
    "    aa = env.available_actions_ids()\n",
    "    if s not in model_pi:\n",
    "        a = np.random.choice(aa, p=[1/len(aa) for _ in aa])\n",
    "    else:\n",
    "        a = np.random.choice(aa, p=[model_pi[s][a_p] for a_p in aa])\n",
    "    env.act_with_action_id(a)\n",
    "    env.view()"
   ],
   "metadata": {
    "collapsed": false,
    "pycharm": {
     "name": "#%%\n"
    }
   }
  },
  {
   "cell_type": "markdown",
   "source": [
    "### Secret Env 3"
   ],
   "metadata": {
    "collapsed": false,
    "pycharm": {
     "name": "#%% md\n"
    }
   }
  },
  {
   "cell_type": "code",
   "execution_count": 49,
   "outputs": [
    {
     "name": "stdout",
     "output_type": "stream",
     "text": [
      "Notre modèle pré-entrainé a gagné 49.7% des parties\n"
     ]
    },
    {
     "data": {
      "text/plain": "<Figure size 432x288 with 1 Axes>",
      "image/png": "[encoded data removed]"
     },
     "metadata": {
      "needs_background": "light"
     },
     "output_type": "display_data"
    }
   ],
   "source": [
    "env = Env3()\n",
    "\n",
    "# TODO : Charger le meilleur modèle\n",
    "model_pi = load_model('q_learning_on_env3_it_100000_eps_0.001_alp_0.255_s_0.531_pi')\n",
    "\n",
    "# TODO : Lancer 1.000 parties avec notre modèle\n",
    "games_played = []\n",
    "win_rates = []\n",
    "win_rate = 0.0\n",
    "\n",
    "for game in range(1, 1_001):\n",
    "    env.reset()\n",
    "    while not env.is_game_over():\n",
    "        s = env.state_id()\n",
    "        aa = env.available_actions_ids()\n",
    "        if s not in model_pi:\n",
    "            a = np.random.choice(aa, p=[1/len(aa) for _ in aa])\n",
    "        else:\n",
    "            a = np.random.choice(aa, p=[model_pi[s][a_p] for a_p in aa])\n",
    "        env.act_with_action_id(a)\n",
    "    games_played.append(game)\n",
    "    win_rate += env.score()\n",
    "    win_rates.append(win_rate)\n",
    "\n",
    "scores = (np.array(win_rates) / np.array(games_played))\n",
    "print(f\"Notre modèle pré-entrainé a gagné {scores[-1]*100}% des parties\")\n",
    "\n",
    "# TODO : Réaliser un graphique nombre de parties / taux de victoires\n",
    "plt.plot(games_played, scores);"
   ],
   "metadata": {
    "collapsed": false,
    "pycharm": {
     "name": "#%%\n"
    }
   }
  },
  {
   "cell_type": "code",
   "execution_count": 50,
   "metadata": {
    "pycharm": {
     "name": "#%%\n"
    }
   },
   "outputs": [
    {
     "name": "stdout",
     "output_type": "stream",
     "text": [
      "It's secret !\n",
      "It's secret !\n",
      "It's secret !\n",
      "It's secret !\n",
      "It's secret !\n",
      "It's secret !\n",
      "It's secret !\n",
      "It's secret !\n",
      "It's secret !\n",
      "It's secret !\n"
     ]
    }
   ],
   "source": [
    "# TODO : Lancer une seule partie avec notre modèle en visualisant le déroulement (env.view())\n",
    "env.reset()\n",
    "while not env.is_game_over():\n",
    "    s = env.state_id()\n",
    "    aa = env.available_actions_ids()\n",
    "    if s not in model_pi:\n",
    "        a = np.random.choice(aa, p=[1/len(aa) for _ in aa])\n",
    "    else:\n",
    "        a = np.random.choice(aa, p=[model_pi[s][a_p] for a_p in aa])\n",
    "    env.act_with_action_id(a)\n",
    "    env.view()"
   ]
  },
  {
   "cell_type": "markdown",
   "metadata": {
    "pycharm": {
     "name": "#%% md\n"
    }
   },
   "source": [
    "## Expected SARSA"
   ]
  },
  {
   "cell_type": "markdown",
   "metadata": {
    "pycharm": {
     "name": "#%% md\n"
    }
   },
   "source": [
    "### Line World"
   ]
  },
  {
   "cell_type": "code",
   "execution_count": 51,
   "metadata": {
    "pycharm": {
     "name": "#%%\n"
    }
   },
   "outputs": [
    {
     "name": "stdout",
     "output_type": "stream",
     "text": [
      "Notre modèle pré-entrainé a gagné 100.0% des parties\n"
     ]
    },
    {
     "data": {
      "text/plain": "<Figure size 432x288 with 1 Axes>",
      "image/png": "[encoded data removed]"
     },
     "metadata": {
      "needs_background": "light"
     },
     "output_type": "display_data"
    }
   ],
   "source": [
    "env = LineWorld(7)\n",
    "\n",
    "# TODO : Charger le meilleur modèle\n",
    "model_pi = load_model('expected_sarsa_on_line_world_it_100_eps_0.001_alp_0.5_s_1.0_pi')\n",
    "\n",
    "# TODO : Lancer 1.000 parties avec notre modèle\n",
    "games_played = []\n",
    "win_rates = []\n",
    "win_rate = 0.0\n",
    "\n",
    "for game in range(1, 1_001):\n",
    "    env.reset()\n",
    "    while not env.is_game_over():\n",
    "        s = env.state_id()\n",
    "        aa = env.available_actions_ids()\n",
    "        if s not in model_pi:\n",
    "            a = np.random.choice(aa, p=[1/len(aa) for _ in aa])\n",
    "        else:\n",
    "            a = np.random.choice(aa, p=[model_pi[s][a_p] for a_p in aa])\n",
    "        env.act_with_action_id(a)\n",
    "    games_played.append(game)\n",
    "    win_rate += env.score()\n",
    "    win_rates.append(win_rate)\n",
    "\n",
    "scores = (np.array(win_rates) / np.array(games_played))\n",
    "print(f\"Notre modèle pré-entrainé a gagné {scores[-1]*100}% des parties\")\n",
    "\n",
    "# TODO : Réaliser un graphique nombre de parties / taux de victoires\n",
    "plt.plot(games_played, scores);"
   ]
  },
  {
   "cell_type": "code",
   "execution_count": 52,
   "metadata": {
    "pycharm": {
     "name": "#%%\n"
    }
   },
   "outputs": [
    {
     "name": "stdout",
     "output_type": "stream",
     "text": [
      "Game Over: False\n",
      "score : 0.0\n",
      "L___X_W\n",
      "Game Over: False\n",
      "score : 0.0\n",
      "L____XW\n",
      "Game Over: True\n",
      "score : 1.0\n",
      "L_____X\n",
      "win rate : 1.0\n",
      "game played : 1\n"
     ]
    }
   ],
   "source": [
    "# TODO : Lancer une seule partie avec notre modèle en visualisant le déroulement (env.view())\n",
    "env.reset()\n",
    "while not env.is_game_over():\n",
    "    s = env.state_id()\n",
    "    aa = env.available_actions_ids()\n",
    "    if s not in model_pi:\n",
    "        a = np.random.choice(aa, p=[1/len(aa) for _ in aa])\n",
    "    else:\n",
    "        a = np.random.choice(aa, p=[model_pi[s][a_p] for a_p in aa])\n",
    "    env.act_with_action_id(a)\n",
    "    env.view()"
   ]
  },
  {
   "cell_type": "markdown",
   "metadata": {
    "pycharm": {
     "name": "#%% md\n"
    }
   },
   "source": [
    "### Grid World"
   ]
  },
  {
   "cell_type": "code",
   "execution_count": 53,
   "metadata": {
    "pycharm": {
     "name": "#%%\n"
    }
   },
   "outputs": [
    {
     "name": "stdout",
     "output_type": "stream",
     "text": [
      "Notre modèle pré-entrainé a gagné 100.0% des parties\n"
     ]
    },
    {
     "data": {
      "text/plain": "<Figure size 432x288 with 1 Axes>",
      "image/png": "[encoded data removed]"
     },
     "metadata": {
      "needs_background": "light"
     },
     "output_type": "display_data"
    }
   ],
   "source": [
    "env = GridWorld()\n",
    "\n",
    "# TODO : Charger le meilleur modèle\n",
    "model_pi = load_model('expected_sarsa_on_grid_world_it_50050_eps_0.001_alp_0.01_s_1.0_pi')\n",
    "\n",
    "# TODO : Lancer 1.000 parties avec notre modèle\n",
    "games_played = []\n",
    "win_rates = []\n",
    "win_rate = 0.0\n",
    "\n",
    "for game in range(1, 1_001):\n",
    "    env.reset()\n",
    "    while not env.is_game_over():\n",
    "        s = env.state_id()\n",
    "        aa = env.available_actions_ids()\n",
    "        if s not in model_pi:\n",
    "            a = np.random.choice(aa, p=[1/len(aa) for _ in aa])\n",
    "        else:\n",
    "            a = np.random.choice(aa, p=[model_pi[s][a_p] for a_p in aa])\n",
    "        env.act_with_action_id(a)\n",
    "    games_played.append(game)\n",
    "    win_rate += env.score()\n",
    "    win_rates.append(win_rate)\n",
    "\n",
    "scores = (np.array(win_rates) / np.array(games_played))\n",
    "print(f\"Notre modèle pré-entrainé a gagné {scores[-1]*100}% des parties\")\n",
    "\n",
    "# TODO : Réaliser un graphique nombre de parties / taux de victoires\n",
    "plt.plot(games_played, scores);"
   ]
  },
  {
   "cell_type": "code",
   "execution_count": 54,
   "metadata": {
    "pycharm": {
     "name": "#%%\n"
    }
   },
   "outputs": [
    {
     "name": "stdout",
     "output_type": "stream",
     "text": [
      "Game Over: False\n",
      "score : 0.0\n",
      "SX__L\n",
      "_____\n",
      "_____\n",
      "_____\n",
      "____W\n",
      "Game Over: False\n",
      "score : 0.0\n",
      "S___L\n",
      "_X___\n",
      "_____\n",
      "_____\n",
      "____W\n",
      "Game Over: False\n",
      "score : 0.0\n",
      "S___L\n",
      "__X__\n",
      "_____\n",
      "_____\n",
      "____W\n",
      "Game Over: False\n",
      "score : 0.0\n",
      "S___L\n",
      "___X_\n",
      "_____\n",
      "_____\n",
      "____W\n",
      "Game Over: False\n",
      "score : 0.0\n",
      "S___L\n",
      "_____\n",
      "___X_\n",
      "_____\n",
      "____W\n",
      "Game Over: False\n",
      "score : 0.0\n",
      "S___L\n",
      "_____\n",
      "_____\n",
      "___X_\n",
      "____W\n",
      "Game Over: False\n",
      "score : 0.0\n",
      "S___L\n",
      "_____\n",
      "_____\n",
      "_____\n",
      "___XW\n",
      "Game Over: True\n",
      "score : 1.0\n",
      "S___L\n",
      "_____\n",
      "_____\n",
      "_____\n",
      "____X\n",
      "win rate : 1.0\n",
      "game played : 1\n"
     ]
    }
   ],
   "source": [
    "# TODO : Lancer une seule partie avec notre modèle en visualisant le déroulement (env.view())\n",
    "env.reset()\n",
    "while not env.is_game_over():\n",
    "    s = env.state_id()\n",
    "    aa = env.available_actions_ids()\n",
    "    if s not in model_pi:\n",
    "        a = np.random.choice(aa, p=[1/len(aa) for _ in aa])\n",
    "    else:\n",
    "        a = np.random.choice(aa, p=[model_pi[s][a_p] for a_p in aa])\n",
    "    env.act_with_action_id(a)\n",
    "    env.view()"
   ]
  },
  {
   "cell_type": "markdown",
   "metadata": {
    "pycharm": {
     "name": "#%% md\n"
    }
   },
   "source": [
    "### Tic Tac Toe"
   ]
  },
  {
   "cell_type": "code",
   "execution_count": 55,
   "metadata": {
    "pycharm": {
     "name": "#%%\n"
    }
   },
   "outputs": [
    {
     "name": "stdout",
     "output_type": "stream",
     "text": [
      "Notre modèle pré-entrainé a gagné 98.9% des parties\n"
     ]
    },
    {
     "data": {
      "text/plain": "<Figure size 432x288 with 1 Axes>",
      "image/png": "[encoded data removed]"
     },
     "metadata": {
      "needs_background": "light"
     },
     "output_type": "display_data"
    }
   ],
   "source": [
    "env = TicTacToe()\n",
    "\n",
    "# TODO : Charger le meilleur modèle\n",
    "model_pi = load_model('expected_sarsa_on_ttt_it_100000_eps_0.5_alp_0.5_s_0.99_pi')\n",
    "\n",
    "# TODO : Lancer 1.000 parties avec notre modèle\n",
    "games_played = []\n",
    "win_rates = []\n",
    "win_rate = 0.0\n",
    "\n",
    "for game in range(1, 1_001):\n",
    "    env.reset()\n",
    "    while not env.is_game_over():\n",
    "        s = env.state_id()\n",
    "        aa = env.available_actions_ids()\n",
    "        if s not in model_pi:\n",
    "            a = np.random.choice(aa, p=[1/len(aa) for _ in aa])\n",
    "        else:\n",
    "            a = np.random.choice(aa, p=[model_pi[s][a_p] for a_p in aa])\n",
    "        env.act_with_action_id(a)\n",
    "    games_played.append(game)\n",
    "    win_rate += env.score()\n",
    "    win_rates.append(win_rate)\n",
    "\n",
    "scores = (np.array(win_rates) / np.array(games_played))\n",
    "print(f\"Notre modèle pré-entrainé a gagné {scores[-1]*100}% des parties\")\n",
    "\n",
    "# TODO : Réaliser un graphique nombre de parties / taux de victoires\n",
    "plt.plot(games_played, scores);"
   ]
  },
  {
   "cell_type": "code",
   "execution_count": 56,
   "metadata": {
    "pycharm": {
     "name": "#%%\n"
    }
   },
   "outputs": [
    {
     "name": "stdout",
     "output_type": "stream",
     "text": [
      "Game Over: False\n",
      "score : 0.0\n",
      "___\n",
      "_X_\n",
      "O__\n",
      "Game Over: False\n",
      "score : 0.0\n",
      "___\n",
      "OX_\n",
      "OX_\n",
      "Game Over: False\n",
      "score : 0.0\n",
      "X__\n",
      "OXO\n",
      "OX_\n",
      "Game Over: True\n",
      "score : 1.0\n",
      "XX_\n",
      "OXO\n",
      "OX_\n",
      "win rate : 1.0\n",
      "game played : 1\n"
     ]
    }
   ],
   "source": [
    "# TODO : Lancer une seule partie avec notre modèle en visualisant le déroulement (env.view())\n",
    "env.reset()\n",
    "while not env.is_game_over():\n",
    "    s = env.state_id()\n",
    "    aa = env.available_actions_ids()\n",
    "    if s not in model_pi:\n",
    "        a = np.random.choice(aa, p=[1/len(aa) for _ in aa])\n",
    "    else:\n",
    "        a = np.random.choice(aa, p=[model_pi[s][a_p] for a_p in aa])\n",
    "    env.act_with_action_id(a)\n",
    "    env.view()"
   ]
  },
  {
   "cell_type": "markdown",
   "metadata": {
    "pycharm": {
     "name": "#%% md\n"
    }
   },
   "source": [
    "### Secret Env 3"
   ]
  },
  {
   "cell_type": "code",
   "execution_count": 57,
   "metadata": {
    "pycharm": {
     "name": "#%%\n"
    }
   },
   "outputs": [
    {
     "name": "stdout",
     "output_type": "stream",
     "text": [
      "Notre modèle pré-entrainé a gagné 48.4% des parties\n"
     ]
    },
    {
     "data": {
      "text/plain": "<Figure size 432x288 with 1 Axes>",
      "image/png": "[encoded data removed]"
     },
     "metadata": {
      "needs_background": "light"
     },
     "output_type": "display_data"
    }
   ],
   "source": [
    "env = Env3()\n",
    "\n",
    "# TODO : Charger le meilleur modèle\n",
    "model_pi = load_model('expected_sarsa_on_env3_it_100_eps_0.5_alp_0.255_s_0.532_pi')\n",
    "\n",
    "# TODO : Lancer 1.000 parties avec notre modèle\n",
    "games_played = []\n",
    "win_rates = []\n",
    "win_rate = 0.0\n",
    "\n",
    "for game in range(1, 1_001):\n",
    "    env.reset()\n",
    "    while not env.is_game_over():\n",
    "        s = env.state_id()\n",
    "        aa = env.available_actions_ids()\n",
    "        if s not in model_pi:\n",
    "            a = np.random.choice(aa, p=[1/len(aa) for _ in aa])\n",
    "        else:\n",
    "            a = np.random.choice(aa, p=[model_pi[s][a_p] for a_p in aa])\n",
    "        env.act_with_action_id(a)\n",
    "    games_played.append(game)\n",
    "    win_rate += env.score()\n",
    "    win_rates.append(win_rate)\n",
    "\n",
    "scores = (np.array(win_rates) / np.array(games_played))\n",
    "print(f\"Notre modèle pré-entrainé a gagné {scores[-1]*100}% des parties\")\n",
    "\n",
    "# TODO : Réaliser un graphique nombre de parties / taux de victoires\n",
    "plt.plot(games_played, scores);"
   ]
  },
  {
   "cell_type": "code",
   "execution_count": null,
   "outputs": [],
   "source": [
    "# TODO : Lancer une seule partie avec notre modèle en visualisant le déroulement (env.view())\n",
    "env.reset()\n",
    "while not env.is_game_over():\n",
    "    s = env.state_id()\n",
    "    aa = env.available_actions_ids()\n",
    "    if s not in model_pi:\n",
    "        a = np.random.choice(aa, p=[1/len(aa) for _ in aa])\n",
    "    else:\n",
    "        a = np.random.choice(aa, p=[model_pi[s][a_p] for a_p in aa])\n",
    "    env.act_with_action_id(a)\n",
    "    env.view()"
   ],
   "metadata": {
    "collapsed": false,
    "pycharm": {
     "name": "#%%\n",
     "is_executing": true
    }
   }
  },
  {
   "cell_type": "markdown",
   "source": [
    "# Application"
   ],
   "metadata": {
    "collapsed": false,
    "pycharm": {
     "name": "#%% md\n"
    }
   }
  },
  {
   "cell_type": "code",
   "execution_count": null,
   "outputs": [],
   "source": [
    "pi = load_model(\"sarsa_on_ttt_it_100000_eps_0.001_alp_0.255_s_0.976_pi\")\n",
    "env = TicTacToe()\n",
    "env.init_tkinter(pi)"
   ],
   "metadata": {
    "collapsed": false,
    "pycharm": {
     "name": "#%%\n",
     "is_executing": true
    }
   }
  },
  {
   "cell_type": "code",
   "execution_count": null,
   "outputs": [],
   "source": [],
   "metadata": {
    "collapsed": false,
    "pycharm": {
     "name": "#%%\n",
     "is_executing": true
    }
   }
  },
  {
   "cell_type": "code",
   "execution_count": null,
   "outputs": [],
   "source": [],
   "metadata": {
    "collapsed": false,
    "pycharm": {
     "name": "#%%\n"
    }
   }
  }
 ],
 "metadata": {
  "kernelspec": {
   "display_name": "Python 3 (ipykernel)",
   "language": "python",
   "name": "python3"
  },
  "language_info": {
   "codemirror_mode": {
    "name": "ipython",
    "version": 3
   },
   "file_extension": ".py",
   "mimetype": "text/x-python",
   "name": "python",
   "nbconvert_exporter": "python",
   "pygments_lexer": "ipython3",
   "version": "3.8.13"
  }
 },
 "nbformat": 4,
 "nbformat_minor": 1
}